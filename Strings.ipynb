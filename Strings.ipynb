{
 "cells": [
  {
   "cell_type": "markdown",
   "id": "0a72f5b8",
   "metadata": {},
   "source": [
    "# sWAP cASE"
   ]
  },
  {
   "cell_type": "code",
   "execution_count": null,
   "id": "22fbf1a5",
   "metadata": {},
   "outputs": [],
   "source": [
    "def swap_case(s):\n",
    "    new_string = \"\"\n",
    "    for i in range(len(s)):\n",
    "        if s[i].islower():\n",
    "           new_string += s[i].upper()\n",
    "        else:\n",
    "           new_string += s[i].lower()\n",
    "    return new_string"
   ]
  },
  {
   "cell_type": "markdown",
   "id": "6e8831c8",
   "metadata": {},
   "source": [
    "# String Split and Join"
   ]
  },
  {
   "cell_type": "code",
   "execution_count": null,
   "id": "0438755f",
   "metadata": {},
   "outputs": [],
   "source": [
    "def split_and_join(line):\n",
    "    return(\"-\".join(line.split(\" \")))\n",
    "\n",
    "if __name__ == '__main__':\n",
    "    line = input()\n",
    "    result = split_and_join(line)\n",
    "    print(result)"
   ]
  },
  {
   "cell_type": "markdown",
   "id": "722c6180",
   "metadata": {},
   "source": [
    "# What's your name?"
   ]
  },
  {
   "cell_type": "code",
   "execution_count": null,
   "id": "2d681ef3",
   "metadata": {},
   "outputs": [],
   "source": [
    "#\n",
    "# Complete the 'print_full_name' function below.\n",
    "#\n",
    "# The function is expected to return a STRING.\n",
    "# The function accepts following parameters:\n",
    "#  1. STRING first\n",
    "#  2. STRING last\n",
    "#\n",
    "\n",
    "def print_full_name(first, last):\n",
    "    print(\"Hello \" + first + \" \" + last + \"! You just delved into python.\")"
   ]
  },
  {
   "cell_type": "markdown",
   "id": "1db7a6ab",
   "metadata": {},
   "source": [
    "# Mutations"
   ]
  },
  {
   "cell_type": "code",
   "execution_count": null,
   "id": "a86b9215",
   "metadata": {},
   "outputs": [],
   "source": [
    "def mutate_string(string, position, character):\n",
    "    return string[:position] + character + string[position+1:]"
   ]
  },
  {
   "cell_type": "markdown",
   "id": "39088963",
   "metadata": {},
   "source": [
    "# Find a string"
   ]
  },
  {
   "cell_type": "code",
   "execution_count": null,
   "id": "4e3fc0bd",
   "metadata": {},
   "outputs": [],
   "source": [
    "def count_substring(string, sub_string):\n",
    "    counter = 0\n",
    "    for i in range(len(string)):\n",
    "        if string[i:i+len(sub_string)] == sub_string:\n",
    "                counter += 1\n",
    "    return counter"
   ]
  },
  {
   "cell_type": "markdown",
   "id": "f52503aa",
   "metadata": {},
   "source": [
    "# String Validators"
   ]
  },
  {
   "cell_type": "code",
   "execution_count": null,
   "id": "01faf2dd",
   "metadata": {},
   "outputs": [],
   "source": [
    "if __name__ == '__main__':\n",
    "    s = input()\n",
    "    \n",
    "def anyAlphaNum(string: str):\n",
    "    boolean = False\n",
    "    for i in range(len(string)):\n",
    "        if string[i].isalnum():\n",
    "            boolean = True\n",
    "    return boolean\n",
    "\n",
    "def anyAlpha(string: str):\n",
    "    boolean = False\n",
    "    for i in range(len(string)):\n",
    "        if string[i].isalpha():\n",
    "            boolean = True\n",
    "    return boolean\n",
    "\n",
    "def anyDigit(string: str):\n",
    "    boolean = False\n",
    "    for i in range(len(string)):\n",
    "        if string[i].isdigit():\n",
    "            boolean = True\n",
    "    return boolean\n",
    "\n",
    "def anyLower(string: str):\n",
    "    boolean = False\n",
    "    for i in range(len(string)):\n",
    "        if string[i].islower():\n",
    "            boolean = True\n",
    "    return boolean\n",
    "\n",
    "def anyUpper(string: str):\n",
    "    boolean = False\n",
    "    for i in range(len(string)):\n",
    "        if string[i].isupper():\n",
    "            boolean = True\n",
    "    return boolean\n",
    "\n",
    "print(anyAlphaNum(s))\n",
    "print(anyAlpha(s))\n",
    "print(anyDigit(s))\n",
    "print(anyLower(s))\n",
    "print(anyUpper(s))"
   ]
  },
  {
   "cell_type": "markdown",
   "id": "20425b15",
   "metadata": {},
   "source": [
    "# Text Alignment"
   ]
  },
  {
   "cell_type": "code",
   "execution_count": null,
   "id": "ebe07b2a",
   "metadata": {},
   "outputs": [],
   "source": [
    "t = int(input())\n",
    "char = 'H'\n",
    "\n",
    "for i in range(t):\n",
    "    print((char*i).rjust(t - 1) + char + (char*i).ljust(t - 1))\n",
    "\n",
    "for i in range(t+1):\n",
    "    print(((char*t).center(t*2) + (char*t).center(t*6)))\n",
    "\n",
    "for i in range((t+1)//2):\n",
    "    print(((char*t)*5).center(t*6))\n",
    "    \n",
    "for i in range(t+1):\n",
    "    print(((char*t).center(t*2) + (char*t).center(t*6)))\n",
    "\n",
    "for i in range(t):\n",
    "    print(((char*(t-i-1)).rjust(t)+char+(char*(t-i-1)).ljust(t)).rjust(t*6))"
   ]
  },
  {
   "cell_type": "markdown",
   "id": "0af6e4fd",
   "metadata": {},
   "source": [
    "# Text Wrap"
   ]
  },
  {
   "cell_type": "code",
   "execution_count": null,
   "id": "35756ca7",
   "metadata": {},
   "outputs": [],
   "source": [
    "def wrap(string, max_width):\n",
    "    output_string = \"\"\n",
    "    counter = len(string) // max_width\n",
    "    for i in range(counter):\n",
    "        begin_index = i * max_width\n",
    "        end_index = (i + 1) * max_width\n",
    "        output_string += string[begin_index:end_index] + \"\\n\"\n",
    "    output_string += string [counter*max_width:]\n",
    "    return output_string"
   ]
  },
  {
   "cell_type": "markdown",
   "id": "4f3ab437",
   "metadata": {},
   "source": [
    "# Designer Door Mat"
   ]
  },
  {
   "cell_type": "code",
   "execution_count": null,
   "id": "c534f372",
   "metadata": {},
   "outputs": [],
   "source": [
    "n, m = map(int, input().split())\n",
    "outputString = \"\"\n",
    "for i in range(1, n, 2):\n",
    "    tbc = \".|.\"*i\n",
    "    outputString += tbc.center(m, \"-\") + \"\\n\"\n",
    "outputString += \"WELCOME\".center(m, \"-\") + \"\\n\"\n",
    "for j in range(n-2, 0, -2):\n",
    "    cbt = \".|.\"*j\n",
    "    outputString += cbt.center(m, \"-\") + \"\\n\"\n",
    "print(outputString)"
   ]
  },
  {
   "cell_type": "markdown",
   "id": "cf379de0",
   "metadata": {},
   "source": [
    "# String Formatting"
   ]
  },
  {
   "cell_type": "code",
   "execution_count": null,
   "id": "1dbccbc2",
   "metadata": {},
   "outputs": [],
   "source": [
    "def print_formatted(number):\n",
    "    l1 = len(bin(number)[2:])\n",
    "    for i in range(1,number+1):\n",
    "        print(str(i).rjust(l1,' '),end=\" \")\n",
    "        print(oct(i)[2:].rjust(l1,' '),end=\" \")\n",
    "        print(((hex(i)[2:]).upper()).rjust(l1,' '),end=\" \")\n",
    "        print(bin(i)[2:].rjust(l1,' '),end=\" \")\n",
    "        print(\"\")"
   ]
  },
  {
   "cell_type": "markdown",
   "id": "2bebcd9e",
   "metadata": {},
   "source": [
    "# Alphabet Rangoli"
   ]
  },
  {
   "cell_type": "code",
   "execution_count": null,
   "id": "92ff0247",
   "metadata": {},
   "outputs": [],
   "source": [
    "import string\n",
    "abc = string.ascii_lowercase\n",
    "alphabet = [abc[i] for i in range(len(abc))]\n",
    "\n",
    "def print_rangoli(size):\n",
    "    L = []\n",
    "    for i in range(size):\n",
    "        s = \"-\".join(alphabet[i:size])\n",
    "        L.append((s[::-1]+s[1:]).center(4*size-3, \"-\"))\n",
    "    print(\"\\n\".join(L[:0:-1]+L))"
   ]
  },
  {
   "cell_type": "markdown",
   "id": "d8c6ebb3",
   "metadata": {},
   "source": [
    "# Capitalize!"
   ]
  },
  {
   "cell_type": "code",
   "execution_count": null,
   "id": "049b173c",
   "metadata": {},
   "outputs": [],
   "source": [
    "# Complete the solve function below.\n",
    "def solve(s):\n",
    "    outputString = \"\"\n",
    "    L = [word[0].upper() + word[1:] for word in s.split()]\n",
    "    for word in L:\n",
    "        outputString += word\n",
    "        counter = s.lower().find(word.lower())\n",
    "        for j in range(counter+len(word), len(s)):\n",
    "            if s[j] == \" \":\n",
    "                outputString += \" \"\n",
    "            else: \n",
    "                break\n",
    "    return outputString"
   ]
  },
  {
   "cell_type": "markdown",
   "id": "8c3c7bf1-44dc-4651-ad35-64f30a302622",
   "metadata": {},
   "source": [
    "# The Minion Game"
   ]
  },
  {
   "cell_type": "code",
   "execution_count": null,
   "id": "7193b910-6c10-45b3-abc1-bb1960e68bf1",
   "metadata": {},
   "outputs": [],
   "source": [
    "def minion_game(string):\n",
    "    string = string.lower()\n",
    "    vowels = \"aeiou\"\n",
    "    vowels_list = [vowels[i] for i in range(len(vowels))]\n",
    "    kevin_points = 0\n",
    "    stuart_points = 0\n",
    "    for index in range(len(string)):\n",
    "        if string[index] in vowels_list:\n",
    "            kevin_points += len(string)-index\n",
    "        else:\n",
    "            stuart_points += len(string)-index\n",
    "    if stuart_points > kevin_points:\n",
    "        print(\"Stuart \" + str(stuart_points))\n",
    "    elif stuart_points == kevin_points:\n",
    "        print(\"Draw\")\n",
    "    elif stuart_points < kevin_points:\n",
    "        print(\"Kevin \" + str(kevin_points))"
   ]
  },
  {
   "cell_type": "markdown",
   "id": "95bba66d-4337-4faf-9e93-8f525ace572f",
   "metadata": {},
   "source": [
    "# Merge the tools!"
   ]
  },
  {
   "cell_type": "code",
   "execution_count": null,
   "id": "e7175fec-4cc5-4a17-b11d-8dc905de3099",
   "metadata": {},
   "outputs": [],
   "source": [
    "def merge_the_tools(string, k):\n",
    "    string_partition = []\n",
    "    output_string = \"\"\n",
    "    for i in range(0, len(string), k):\n",
    "        string_partition.append(string[i:i+k])\n",
    "    for substring in string_partition:\n",
    "        stringed = [substring[i] for i in range(len(substring))] \n",
    "        tobejoined = []\n",
    "        for character in stringed: \n",
    "            if character not in tobejoined:\n",
    "                tobejoined.append(character)\n",
    "        print(\"\".join(tobejoined))"
   ]
  }
 ],
 "metadata": {
  "kernelspec": {
   "display_name": "Python 3",
   "language": "python",
   "name": "python3"
  },
  "language_info": {
   "codemirror_mode": {
    "name": "ipython",
    "version": 3
   },
   "file_extension": ".py",
   "mimetype": "text/x-python",
   "name": "python",
   "nbconvert_exporter": "python",
   "pygments_lexer": "ipython3",
   "version": "3.8.8"
  }
 },
 "nbformat": 4,
 "nbformat_minor": 5
}
