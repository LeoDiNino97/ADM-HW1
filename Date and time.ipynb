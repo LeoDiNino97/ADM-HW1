{
 "cells": [
  {
   "cell_type": "markdown",
   "id": "dc7bc766-6e87-4064-92c6-a450bac8d5ae",
   "metadata": {},
   "source": [
    "# Calendar Module"
   ]
  },
  {
   "cell_type": "code",
   "execution_count": null,
   "id": "9e67713f-49ff-45b0-b83b-f10398e7c529",
   "metadata": {},
   "outputs": [],
   "source": [
    "import calendar\n",
    "\n",
    "MM, DD, YYYY = map(int, input().split())\n",
    "print(calendar.day_name[calendar.weekday(YYYY,MM,DD)].upper())"
   ]
  },
  {
   "cell_type": "markdown",
   "id": "c5f6a7ff-6be5-4882-8092-5b6017839eed",
   "metadata": {},
   "source": [
    "# Time Delta"
   ]
  },
  {
   "cell_type": "code",
   "execution_count": null,
   "id": "5851a4e5-dd09-4475-95da-5b8a334370e8",
   "metadata": {},
   "outputs": [],
   "source": [
    "from datetime import datetime\n",
    "def time_delta(t1, t2):\n",
    "    formatted = '%a %d %b %Y %H:%M:%S %z'\n",
    "    t1 = datetime.strptime(t1, formatted)\n",
    "    t2 = datetime.strptime(t2, formatted)\n",
    "    return str(int(abs((t1-t2).total_seconds())))   "
   ]
  }
 ],
 "metadata": {
  "kernelspec": {
   "display_name": "Python 3",
   "language": "python",
   "name": "python3"
  },
  "language_info": {
   "codemirror_mode": {
    "name": "ipython",
    "version": 3
   },
   "file_extension": ".py",
   "mimetype": "text/x-python",
   "name": "python",
   "nbconvert_exporter": "python",
   "pygments_lexer": "ipython3",
   "version": "3.8.8"
  }
 },
 "nbformat": 4,
 "nbformat_minor": 5
}
