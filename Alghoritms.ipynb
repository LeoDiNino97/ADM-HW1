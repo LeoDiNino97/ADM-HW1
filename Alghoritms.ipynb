{
 "cells": [
  {
   "cell_type": "markdown",
   "id": "42c9bf48-a3b0-420d-81f0-7b42d4e4fb38",
   "metadata": {},
   "source": [
    "# Birthday Cake Candles"
   ]
  },
  {
   "cell_type": "code",
   "execution_count": null,
   "id": "9fff221b-c8c7-46dc-9bab-e1ebe4f6e6f6",
   "metadata": {},
   "outputs": [],
   "source": [
    "def birthdayCakeCandles(candles):\n",
    "    counter = 0\n",
    "    tallest = max(candles)\n",
    "    is_tallest = lambda x: x == tallest\n",
    "    return sum(map(is_tallest, candles))\n"
   ]
  },
  {
   "cell_type": "markdown",
   "id": "c3c7a606-2090-4abf-80c0-fa142ee73b37",
   "metadata": {},
   "source": [
    "# Number Line Jumps"
   ]
  },
  {
   "cell_type": "code",
   "execution_count": null,
   "id": "cc7eb97e-9a69-4650-9037-2d0fabea5f19",
   "metadata": {},
   "outputs": [],
   "source": [
    "def kangaroo(x1, v1, x2, v2):\n",
    "    if v1 != v2:\n",
    "        steps = (x1-x2)/(v2-v1)\n",
    "    if (v1 == v2 and x1 != x2) or steps < 0:\n",
    "        return('NO')\n",
    "    elif steps.is_integer():\n",
    "        return('YES')\n",
    "    return('NO')    "
   ]
  },
  {
   "cell_type": "markdown",
   "id": "c783ff09-7e03-4bae-80c8-4b6436cb8be8",
   "metadata": {},
   "source": [
    "# Viral Advertising"
   ]
  },
  {
   "cell_type": "code",
   "execution_count": null,
   "id": "6c64ce24-5fab-46be-a7f4-65b1a8a498f6",
   "metadata": {},
   "outputs": [],
   "source": [
    "def viralAdvertising(n):\n",
    "    recipients = 5\n",
    "    liked = 0\n",
    "    for k in range(n):\n",
    "        liked += math.floor(recipients/2)\n",
    "        recipients = 3*math.floor(recipients/2)\n",
    "    return liked"
   ]
  },
  {
   "cell_type": "markdown",
   "id": "95161146-59fc-467e-bec4-1110dbe18846",
   "metadata": {},
   "source": [
    "# Recursive digit sum"
   ]
  },
  {
   "cell_type": "code",
   "execution_count": null,
   "id": "9b6a306d-5bf6-4a87-866c-0e17836ec909",
   "metadata": {},
   "outputs": [],
   "source": [
    "def superDigit(n, k):\n",
    "    if int(n) < 10 and k==1:\n",
    "        return int(n)\n",
    "    else:\n",
    "        partial = sum(map(int,n))\n",
    "        return superDigit(str(partial*k),1)"
   ]
  },
  {
   "cell_type": "markdown",
   "id": "e715c663-54e9-474b-9578-c232c369600c",
   "metadata": {},
   "source": [
    "# Insertion Sort Part 1"
   ]
  },
  {
   "cell_type": "code",
   "execution_count": null,
   "id": "c2320ccd-13ae-4c90-a861-da2fa77c2900",
   "metadata": {},
   "outputs": [],
   "source": [
    "def insertionSort1(n, arr):\n",
    "    stored = arr[-1]\n",
    "    for i in range(n-2, -1, -1):\n",
    "        if arr[i] > stored:\n",
    "            arr[i+1] = arr[i]\n",
    "            print(' '.join(map(str, arr)))\n",
    "        else:\n",
    "            arr[i+1] = stored\n",
    "            print(' '.join(map(str, arr)))\n",
    "            return\n",
    "    arr[0] = stored\n",
    "    print(' '.join(map(str, arr)))"
   ]
  },
  {
   "cell_type": "markdown",
   "id": "b28f84c1-4897-4d67-a902-ca477f415a07",
   "metadata": {},
   "source": [
    "# Insertion Sort Part 2"
   ]
  },
  {
   "cell_type": "code",
   "execution_count": null,
   "id": "60957add-f2df-437f-986e-f36b9facb0a3",
   "metadata": {},
   "outputs": [],
   "source": [
    "def insertionSort2(n, arr):\n",
    "    for i in range(1, n):\n",
    "        temp = arr[i]\n",
    "        k = i\n",
    "        while k > 0 and temp < arr[k-1]:\n",
    "            arr[k] = arr[k-1]\n",
    "            k -= 1\n",
    "        arr[k] = temp\n",
    "        print(\" \".join(map(str, arr)))    \n",
    "    "
   ]
  }
 ],
 "metadata": {
  "kernelspec": {
   "display_name": "Python 3",
   "language": "python",
   "name": "python3"
  },
  "language_info": {
   "codemirror_mode": {
    "name": "ipython",
    "version": 3
   },
   "file_extension": ".py",
   "mimetype": "text/x-python",
   "name": "python",
   "nbconvert_exporter": "python",
   "pygments_lexer": "ipython3",
   "version": "3.8.8"
  }
 },
 "nbformat": 4,
 "nbformat_minor": 5
}
