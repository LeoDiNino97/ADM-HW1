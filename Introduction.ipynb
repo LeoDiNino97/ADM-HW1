{
 "cells": [
  {
   "cell_type": "markdown",
   "id": "9e2d29af",
   "metadata": {},
   "source": [
    "# Say \"Hello, World!\" With Python"
   ]
  },
  {
   "cell_type": "code",
   "execution_count": null,
   "id": "bc9c3ebf",
   "metadata": {},
   "outputs": [],
   "source": [
    "if __name__ == '__main__':\n",
    "    print(\"Hello, World!\")"
   ]
  },
  {
   "cell_type": "markdown",
   "id": "e44fab06",
   "metadata": {},
   "source": [
    "# Python If-Else"
   ]
  },
  {
   "cell_type": "code",
   "execution_count": null,
   "id": "753e1235",
   "metadata": {},
   "outputs": [],
   "source": [
    "#!/bin/python3\n",
    "\n",
    "import math\n",
    "import os\n",
    "import random\n",
    "import re\n",
    "import sys\n",
    "\n",
    "\n",
    "\n",
    "if __name__ == '__main__':\n",
    "    n = int(input().strip())\n",
    "def strangeFunction(number: int):\n",
    "    if n < 1 or n > 100:\n",
    "        return None\n",
    "    if n % 2 != 0:\n",
    "        return \"Weird\"\n",
    "    else:\n",
    "        if (n >= 2 and n <= 5) or n > 20:\n",
    "            return \"Not Weird\"\n",
    "        if (n >= 6 and n <= 20):\n",
    "            return \"Weird\"\n",
    "        \n",
    "print(strangeFunction(n))"
   ]
  },
  {
   "cell_type": "markdown",
   "id": "367543b3",
   "metadata": {},
   "source": [
    "# Arithmetic Operators"
   ]
  },
  {
   "cell_type": "code",
   "execution_count": null,
   "id": "7926e2b2",
   "metadata": {},
   "outputs": [],
   "source": [
    "if __name__ == '__main__':\n",
    "    a = int(input())\n",
    "    b = int(input())\n",
    "    \n",
    "def taskFunction(num1: int, num2: int):\n",
    "    sumStr = str(num1 + num2)\n",
    "    diffStr = str(num1 - num2)\n",
    "    prodStr = str(num1 * num2)\n",
    "    outputStr = sumStr + \"\\n\" + diffStr + \"\\n\" + prodStr \n",
    "    return outputStr\n",
    "\n",
    "print(taskFunction(a,b))"
   ]
  },
  {
   "cell_type": "markdown",
   "id": "30719d5e",
   "metadata": {},
   "source": [
    "# Python: Division"
   ]
  },
  {
   "cell_type": "code",
   "execution_count": null,
   "id": "6f519555",
   "metadata": {},
   "outputs": [],
   "source": [
    "if __name__ == '__main__':\n",
    "    a = int(input())\n",
    "    b = int(input())\n",
    "    \n",
    "print(a//b, a/b, sep=\"\\n\")"
   ]
  },
  {
   "cell_type": "markdown",
   "id": "e5c40d82",
   "metadata": {},
   "source": [
    "# Markdown"
   ]
  },
  {
   "cell_type": "code",
   "execution_count": 1,
   "id": "4859e5a8",
   "metadata": {},
   "outputs": [
    {
     "name": "stdout",
     "output_type": "stream",
     "text": [
      "4\n",
      "0\n",
      "1\n",
      "4\n",
      "9\n"
     ]
    }
   ],
   "source": [
    "if __name__ == '__main__':\n",
    "    n = int(input())\n",
    "    \n",
    "for j in range(n):\n",
    "    print(j**2)"
   ]
  },
  {
   "cell_type": "markdown",
   "id": "04d79a7b",
   "metadata": {},
   "source": [
    "# Write a function"
   ]
  },
  {
   "cell_type": "code",
   "execution_count": null,
   "id": "3eb411f5",
   "metadata": {},
   "outputs": [],
   "source": [
    "def is_leap(year):\n",
    "    leap = False\n",
    "    if year % 4 == 0:\n",
    "        leap = True \n",
    "        if year % 100 == 0 and year % 400 != 0:\n",
    "            leap = False\n",
    "    return leap"
   ]
  },
  {
   "cell_type": "markdown",
   "id": "02f6ac89",
   "metadata": {},
   "source": [
    "# Print a function"
   ]
  },
  {
   "cell_type": "code",
   "execution_count": null,
   "id": "6613a4e7",
   "metadata": {},
   "outputs": [],
   "source": [
    "if __name__ == '__main__':\n",
    "    n = int(input())\n",
    "    \n",
    "def longStr(number: int):\n",
    "    k = 1\n",
    "    output = \"\"\n",
    "    while k <= number:\n",
    "        output += str(k)\n",
    "        k += 1\n",
    "    return output\n",
    "\n",
    "print(longStr(n))"
   ]
  }
 ],
 "metadata": {
  "kernelspec": {
   "display_name": "Python 3",
   "language": "python",
   "name": "python3"
  },
  "language_info": {
   "codemirror_mode": {
    "name": "ipython",
    "version": 3
   },
   "file_extension": ".py",
   "mimetype": "text/x-python",
   "name": "python",
   "nbconvert_exporter": "python",
   "pygments_lexer": "ipython3",
   "version": "3.8.8"
  }
 },
 "nbformat": 4,
 "nbformat_minor": 5
}
