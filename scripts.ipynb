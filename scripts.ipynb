{
 "cells": [
  {
   "cell_type": "markdown",
   "id": "9e2d29af",
   "metadata": {},
   "source": [
    "# Say \"Hello, World!\" With Python"
   ]
  },
  {
   "cell_type": "code",
   "execution_count": null,
   "id": "bc9c3ebf",
   "metadata": {},
   "outputs": [],
   "source": [
    "if __name__ == '__main__':\n",
    "    print(\"Hello, World!\")"
   ]
  },
  {
   "cell_type": "markdown",
   "id": "e44fab06",
   "metadata": {},
   "source": [
    "# Python If-Else"
   ]
  },
  {
   "cell_type": "code",
   "execution_count": null,
   "id": "753e1235",
   "metadata": {},
   "outputs": [],
   "source": [
    "#!/bin/python3\n",
    "\n",
    "import math\n",
    "import os\n",
    "import random\n",
    "import re\n",
    "import sys\n",
    "\n",
    "\n",
    "\n",
    "if __name__ == '__main__':\n",
    "    n = int(input().strip())\n",
    "def strangeFunction(number: int):\n",
    "    if n < 1 or n > 100:\n",
    "        return None\n",
    "    if n % 2 != 0:\n",
    "        return \"Weird\"\n",
    "    else:\n",
    "        if (n >= 2 and n <= 5) or n > 20:\n",
    "            return \"Not Weird\"\n",
    "        if (n >= 6 and n <= 20):\n",
    "            return \"Weird\"\n",
    "        \n",
    "print(strangeFunction(n))"
   ]
  },
  {
   "cell_type": "markdown",
   "id": "367543b3",
   "metadata": {},
   "source": [
    "# Arithmetic Operators"
   ]
  },
  {
   "cell_type": "code",
   "execution_count": null,
   "id": "7926e2b2",
   "metadata": {},
   "outputs": [],
   "source": [
    "if __name__ == '__main__':\n",
    "    a = int(input())\n",
    "    b = int(input())\n",
    "    \n",
    "def taskFunction(num1: int, num2: int):\n",
    "    sumStr = str(num1 + num2)\n",
    "    diffStr = str(num1 - num2)\n",
    "    prodStr = str(num1 * num2)\n",
    "    outputStr = sumStr + \"\\n\" + diffStr + \"\\n\" + prodStr \n",
    "    return outputStr\n",
    "\n",
    "print(taskFunction(a,b))"
   ]
  },
  {
   "cell_type": "markdown",
   "id": "30719d5e",
   "metadata": {},
   "source": [
    "# Python: Division"
   ]
  },
  {
   "cell_type": "code",
   "execution_count": null,
   "id": "6f519555",
   "metadata": {},
   "outputs": [],
   "source": [
    "if __name__ == '__main__':\n",
    "    a = int(input())\n",
    "    b = int(input())\n",
    "    \n",
    "print(a//b, a/b, sep=\"\\n\")"
   ]
  },
  {
   "cell_type": "markdown",
   "id": "e5c40d82",
   "metadata": {},
   "source": [
    "# Markdown"
   ]
  },
  {
   "cell_type": "code",
   "execution_count": 1,
   "id": "4859e5a8",
   "metadata": {},
   "outputs": [
    {
     "name": "stdout",
     "output_type": "stream",
     "text": [
      "4\n",
      "0\n",
      "1\n",
      "4\n",
      "9\n"
     ]
    }
   ],
   "source": [
    "if __name__ == '__main__':\n",
    "    n = int(input())\n",
    "    \n",
    "for j in range(n):\n",
    "    print(j**2)"
   ]
  },
  {
   "cell_type": "markdown",
   "id": "04d79a7b",
   "metadata": {},
   "source": [
    "# Write a function"
   ]
  },
  {
   "cell_type": "code",
   "execution_count": null,
   "id": "3eb411f5",
   "metadata": {},
   "outputs": [],
   "source": [
    "def is_leap(year):\n",
    "    leap = False\n",
    "    if year % 4 == 0:\n",
    "        leap = True \n",
    "        if year % 100 == 0 and year % 400 != 0:\n",
    "            leap = False\n",
    "    return leap"
   ]
  },
  {
   "cell_type": "markdown",
   "id": "02f6ac89",
   "metadata": {},
   "source": [
    "# Print a function"
   ]
  },
  {
   "cell_type": "code",
   "execution_count": null,
   "id": "6613a4e7",
   "metadata": {},
   "outputs": [],
   "source": [
    "if __name__ == '__main__':\n",
    "    n = int(input())\n",
    "    \n",
    "def longStr(number: int):\n",
    "    k = 1\n",
    "    output = \"\"\n",
    "    while k <= number:\n",
    "        output += str(k)\n",
    "        k += 1\n",
    "    return output\n",
    "\n",
    "print(longStr(n))"
   ]
  },
  {
   "cell_type": "markdown",
   "id": "63516a90",
   "metadata": {},
   "source": [
    "# List Comprehensions"
   ]
  },
  {
   "cell_type": "code",
   "execution_count": null,
   "id": "1d17dd8f",
   "metadata": {},
   "outputs": [],
   "source": [
    "if __name__ == '__main__':\n",
    "    x = int(input())\n",
    "    y = int(input())\n",
    "    z = int(input())\n",
    "    n = int(input())\n",
    "    \n",
    "L = []\n",
    "for i in range(x+1):\n",
    "    for j in range(y+1):\n",
    "        for k in range(z+1):\n",
    "            if i+j+k != n:\n",
    "                L.append([i,j,k])\n",
    "                \n",
    "print(L)"
   ]
  },
  {
   "cell_type": "markdown",
   "id": "0fdea514",
   "metadata": {},
   "source": [
    "# Find the Runner-Up Score!"
   ]
  },
  {
   "cell_type": "code",
   "execution_count": null,
   "id": "186d2b81",
   "metadata": {},
   "outputs": [],
   "source": [
    "if __name__ == '__main__':\n",
    "    n = int(input())\n",
    "    arr = list(map(int, input().split()))\n",
    "\n",
    "first = max(arr)\n",
    "runner_ups = []\n",
    "for i in arr:\n",
    "    if i != first:\n",
    "        runner_ups.append(i)\n",
    "print(max(runner_ups))                  #The second is just the first of the lasts"
   ]
  },
  {
   "cell_type": "markdown",
   "id": "9b7d2286",
   "metadata": {},
   "source": [
    "# Nested Lists"
   ]
  },
  {
   "cell_type": "code",
   "execution_count": null,
   "id": "e40cd2c0",
   "metadata": {},
   "outputs": [],
   "source": [
    "L = []\n",
    "\n",
    "if __name__ == '__main__':\n",
    "    for _ in range(int(input())):\n",
    "        L.append([input(),float(input())])\n",
    "        \n",
    "score_list = []       \n",
    "for student in L:\n",
    "    score_list.append(student[1]) \n",
    "    \n",
    "def second_lowest_grade(scores: list):\n",
    "    lowest_grade = min(scores)\n",
    "    lowest_scores = []\n",
    "    for score in scores:\n",
    "        if score != lowest_grade:\n",
    "            lowest_scores.append(score)\n",
    "    return min(lowest_scores)\n",
    "\n",
    "    \n",
    "lowest_students = []\n",
    "for student in L:\n",
    "    if student[1] == second_lowest_grade(score_list):\n",
    "        lowest_students.append(student[0])\n",
    "print('\\n'.join(sorted(lowest_students)))"
   ]
  },
  {
   "cell_type": "markdown",
   "id": "d027171b",
   "metadata": {},
   "source": [
    "# Finding the percentage"
   ]
  },
  {
   "cell_type": "code",
   "execution_count": null,
   "id": "7510f618",
   "metadata": {},
   "outputs": [],
   "source": [
    "if __name__ == '__main__':\n",
    "    n = int(input())\n",
    "    student_marks = {}\n",
    "    for _ in range(n):\n",
    "        name, *line = input().split()\n",
    "        scores = list(map(float, line))\n",
    "        student_marks[name] = scores\n",
    "    query_name = input()\n",
    "    \n",
    "print(format(sum(student_marks[query_name])/3, '.2f'))"
   ]
  },
  {
   "cell_type": "markdown",
   "id": "12f19c69",
   "metadata": {},
   "source": [
    "# Lists"
   ]
  },
  {
   "cell_type": "code",
   "execution_count": null,
   "id": "5af0989b",
   "metadata": {},
   "outputs": [],
   "source": [
    "if __name__ == '__main__':\n",
    "    N = int(input())\n",
    "\n",
    "L = []\n",
    "for n in range(0, N):\n",
    "    command = input().split()\n",
    "    cmd = command[0]\n",
    "    if cmd == 'insert':\n",
    "        L.insert(int(command[1]), int(command[2]))\n",
    "    elif cmd == 'print':\n",
    "        print(L)\n",
    "    elif cmd == 'remove':\n",
    "        L.remove(int(command[1]))    \n",
    "    elif cmd == 'append':\n",
    "        L.append(int(command[1]))\n",
    "    elif cmd == 'sort':\n",
    "        L.sort()\n",
    "    elif cmd == 'pop':\n",
    "        L.pop()\n",
    "    elif cmd == 'reverse':\n",
    "        L.reverse()\n"
   ]
  },
  {
   "cell_type": "markdown",
   "id": "94552df5",
   "metadata": {},
   "source": [
    "# Tuples"
   ]
  },
  {
   "cell_type": "code",
   "execution_count": null,
   "id": "768a6d04",
   "metadata": {},
   "outputs": [],
   "source": [
    "if __name__ == '__main__':\n",
    "    n = int(input())\n",
    "    integer_list = map(int, input().split())\n",
    "    print(hash(tuple(integer_list)))"
   ]
  },
  {
   "cell_type": "markdown",
   "id": "0a72f5b8",
   "metadata": {},
   "source": [
    "# sWAP cASE"
   ]
  },
  {
   "cell_type": "code",
   "execution_count": null,
   "id": "22fbf1a5",
   "metadata": {},
   "outputs": [],
   "source": [
    "def swap_case(s):\n",
    "    new_string = \"\"\n",
    "    for i in range(len(s)):\n",
    "        if s[i].islower():\n",
    "           new_string += s[i].upper()\n",
    "        else:\n",
    "           new_string += s[i].lower()\n",
    "    return new_string"
   ]
  },
  {
   "cell_type": "markdown",
   "id": "6e8831c8",
   "metadata": {},
   "source": [
    "# String Split and Join"
   ]
  },
  {
   "cell_type": "code",
   "execution_count": null,
   "id": "0438755f",
   "metadata": {},
   "outputs": [],
   "source": [
    "def split_and_join(line):\n",
    "    return(\"-\".join(line.split(\" \")))\n",
    "\n",
    "if __name__ == '__main__':\n",
    "    line = input()\n",
    "    result = split_and_join(line)\n",
    "    print(result)"
   ]
  },
  {
   "cell_type": "markdown",
   "id": "722c6180",
   "metadata": {},
   "source": [
    "# What's your name?"
   ]
  },
  {
   "cell_type": "code",
   "execution_count": null,
   "id": "2d681ef3",
   "metadata": {},
   "outputs": [],
   "source": [
    "#\n",
    "# Complete the 'print_full_name' function below.\n",
    "#\n",
    "# The function is expected to return a STRING.\n",
    "# The function accepts following parameters:\n",
    "#  1. STRING first\n",
    "#  2. STRING last\n",
    "#\n",
    "\n",
    "def print_full_name(first, last):\n",
    "    print(\"Hello \" + first + \" \" + last + \"! You just delved into python.\")"
   ]
  },
  {
   "cell_type": "markdown",
   "id": "1db7a6ab",
   "metadata": {},
   "source": [
    "# Mutations"
   ]
  },
  {
   "cell_type": "code",
   "execution_count": null,
   "id": "a86b9215",
   "metadata": {},
   "outputs": [],
   "source": [
    "def mutate_string(string, position, character):\n",
    "    return string[:position] + character + string[position+1:]"
   ]
  },
  {
   "cell_type": "markdown",
   "id": "39088963",
   "metadata": {},
   "source": [
    "# Find a string"
   ]
  },
  {
   "cell_type": "code",
   "execution_count": null,
   "id": "4e3fc0bd",
   "metadata": {},
   "outputs": [],
   "source": [
    "def count_substring(string, sub_string):\n",
    "    counter = 0\n",
    "    for i in range(len(string)):\n",
    "        if string[i:i+len(sub_string)] == sub_string:\n",
    "                counter += 1\n",
    "    return counter"
   ]
  },
  {
   "cell_type": "markdown",
   "id": "f52503aa",
   "metadata": {},
   "source": [
    "# String Validators"
   ]
  },
  {
   "cell_type": "code",
   "execution_count": null,
   "id": "01faf2dd",
   "metadata": {},
   "outputs": [],
   "source": [
    "if __name__ == '__main__':\n",
    "    s = input()\n",
    "    \n",
    "def anyAlphaNum(string: str):\n",
    "    boolean = False\n",
    "    for i in range(len(string)):\n",
    "        if string[i].isalnum():\n",
    "            boolean = True\n",
    "    return boolean\n",
    "\n",
    "def anyAlpha(string: str):\n",
    "    boolean = False\n",
    "    for i in range(len(string)):\n",
    "        if string[i].isalpha():\n",
    "            boolean = True\n",
    "    return boolean\n",
    "\n",
    "def anyDigit(string: str):\n",
    "    boolean = False\n",
    "    for i in range(len(string)):\n",
    "        if string[i].isdigit():\n",
    "            boolean = True\n",
    "    return boolean\n",
    "\n",
    "def anyLower(string: str):\n",
    "    boolean = False\n",
    "    for i in range(len(string)):\n",
    "        if string[i].islower():\n",
    "            boolean = True\n",
    "    return boolean\n",
    "\n",
    "def anyUpper(string: str):\n",
    "    boolean = False\n",
    "    for i in range(len(string)):\n",
    "        if string[i].isupper():\n",
    "            boolean = True\n",
    "    return boolean\n",
    "\n",
    "print(anyAlphaNum(s))\n",
    "print(anyAlpha(s))\n",
    "print(anyDigit(s))\n",
    "print(anyLower(s))\n",
    "print(anyUpper(s))"
   ]
  },
  {
   "cell_type": "markdown",
   "id": "20425b15",
   "metadata": {},
   "source": [
    "# Text Alignment"
   ]
  },
  {
   "cell_type": "code",
   "execution_count": null,
   "id": "ebe07b2a",
   "metadata": {},
   "outputs": [],
   "source": [
    "t = int(input())\n",
    "char = 'H'\n",
    "\n",
    "for i in range(t):\n",
    "    print((char*i).rjust(t - 1) + char + (char*i).ljust(t - 1))\n",
    "\n",
    "for i in range(t+1):\n",
    "    print(((char*t).center(t*2) + (char*t).center(t*6)))\n",
    "\n",
    "for i in range((t+1)//2):\n",
    "    print(((char*t)*5).center(t*6))\n",
    "    \n",
    "for i in range(t+1):\n",
    "    print(((char*t).center(t*2) + (char*t).center(t*6)))\n",
    "\n",
    "for i in range(t):\n",
    "    print(((char*(t-i-1)).rjust(t)+char+(char*(t-i-1)).ljust(t)).rjust(t*6))"
   ]
  },
  {
   "cell_type": "markdown",
   "id": "0af6e4fd",
   "metadata": {},
   "source": [
    "# Text Wrap"
   ]
  },
  {
   "cell_type": "code",
   "execution_count": null,
   "id": "35756ca7",
   "metadata": {},
   "outputs": [],
   "source": [
    "def wrap(string, max_width):\n",
    "    output_string = \"\"\n",
    "    counter = len(string) // max_width\n",
    "    for i in range(counter):\n",
    "        begin_index = i * max_width\n",
    "        end_index = (i + 1) * max_width\n",
    "        output_string += string[begin_index:end_index] + \"\\n\"\n",
    "    output_string += string [counter*max_width:]\n",
    "    return output_string"
   ]
  },
  {
   "cell_type": "markdown",
   "id": "4f3ab437",
   "metadata": {},
   "source": [
    "# Designer Door Mat"
   ]
  },
  {
   "cell_type": "code",
   "execution_count": null,
   "id": "c534f372",
   "metadata": {},
   "outputs": [],
   "source": [
    "n, m = map(int, input().split())\n",
    "outputString = \"\"\n",
    "for i in range(1, n, 2):\n",
    "    tbc = \".|.\"*i\n",
    "    outputString += tbc.center(m, \"-\") + \"\\n\"\n",
    "outputString += \"WELCOME\".center(m, \"-\") + \"\\n\"\n",
    "for j in range(n-2, 0, -2):\n",
    "    cbt = \".|.\"*j\n",
    "    outputString += cbt.center(m, \"-\") + \"\\n\"\n",
    "print(outputString)"
   ]
  },
  {
   "cell_type": "markdown",
   "id": "cf379de0",
   "metadata": {},
   "source": [
    "# String Formatting"
   ]
  },
  {
   "cell_type": "code",
   "execution_count": null,
   "id": "1dbccbc2",
   "metadata": {},
   "outputs": [],
   "source": [
    "def print_formatted(number):\n",
    "    l1 = len(bin(number)[2:])\n",
    "    for i in range(1,number+1):\n",
    "        print(str(i).rjust(l1,' '),end=\" \")\n",
    "        print(oct(i)[2:].rjust(l1,' '),end=\" \")\n",
    "        print(((hex(i)[2:]).upper()).rjust(l1,' '),end=\" \")\n",
    "        print(bin(i)[2:].rjust(l1,' '),end=\" \")\n",
    "        print(\"\")"
   ]
  },
  {
   "cell_type": "markdown",
   "id": "2bebcd9e",
   "metadata": {},
   "source": [
    "# Alphabet Rangoli"
   ]
  },
  {
   "cell_type": "code",
   "execution_count": null,
   "id": "92ff0247",
   "metadata": {},
   "outputs": [],
   "source": [
    "import string\n",
    "abc = string.ascii_lowercase\n",
    "alphabet = [abc[i] for i in range(len(abc))]\n",
    "\n",
    "def print_rangoli(size):\n",
    "    L = []\n",
    "    for i in range(size):\n",
    "        s = \"-\".join(alphabet[i:size])\n",
    "        L.append((s[::-1]+s[1:]).center(4*size-3, \"-\"))\n",
    "    print(\"\\n\".join(L[:0:-1]+L))"
   ]
  },
  {
   "cell_type": "markdown",
   "id": "d8c6ebb3",
   "metadata": {},
   "source": [
    "# Capitalize!"
   ]
  },
  {
   "cell_type": "code",
   "execution_count": null,
   "id": "049b173c",
   "metadata": {},
   "outputs": [],
   "source": [
    "# Complete the solve function below.\n",
    "def solve(s):\n",
    "    outputString = \"\"\n",
    "    L = [word[0].upper() + word[1:] for word in s.split()]\n",
    "    for word in L:\n",
    "        outputString += word\n",
    "        counter = s.lower().find(word.lower())\n",
    "        for j in range(counter+len(word), len(s)):\n",
    "            if s[j] == \" \":\n",
    "                outputString += \" \"\n",
    "            else: \n",
    "                break\n",
    "    return outputString"
   ]
  },
  {
   "cell_type": "markdown",
   "id": "8c3c7bf1-44dc-4651-ad35-64f30a302622",
   "metadata": {},
   "source": [
    "# The Minion Game"
   ]
  },
  {
   "cell_type": "code",
   "execution_count": null,
   "id": "7193b910-6c10-45b3-abc1-bb1960e68bf1",
   "metadata": {},
   "outputs": [],
   "source": [
    "def minion_game(string):\n",
    "    string = string.lower()\n",
    "    vowels = \"aeiou\"\n",
    "    vowels_list = [vowels[i] for i in range(len(vowels))]\n",
    "    kevin_points = 0\n",
    "    stuart_points = 0\n",
    "    for index in range(len(string)):\n",
    "        if string[index] in vowels_list:\n",
    "            kevin_points += len(string)-index\n",
    "        else:\n",
    "            stuart_points += len(string)-index\n",
    "    if stuart_points > kevin_points:\n",
    "        print(\"Stuart \" + str(stuart_points))\n",
    "    elif stuart_points == kevin_points:\n",
    "        print(\"Draw\")\n",
    "    elif stuart_points < kevin_points:\n",
    "        print(\"Kevin \" + str(kevin_points))"
   ]
  },
  {
   "cell_type": "markdown",
   "id": "95bba66d-4337-4faf-9e93-8f525ace572f",
   "metadata": {},
   "source": [
    "# Merge the tools!"
   ]
  },
  {
   "cell_type": "code",
   "execution_count": null,
   "id": "e7175fec-4cc5-4a17-b11d-8dc905de3099",
   "metadata": {},
   "outputs": [],
   "source": [
    "def merge_the_tools(string, k):\n",
    "    string_partition = []\n",
    "    output_string = \"\"\n",
    "    for i in range(0, len(string), k):\n",
    "        string_partition.append(string[i:i+k])\n",
    "    for substring in string_partition:\n",
    "        stringed = [substring[i] for i in range(len(substring))] \n",
    "        tobejoined = []\n",
    "        for character in stringed: \n",
    "            if character not in tobejoined:\n",
    "                tobejoined.append(character)\n",
    "        print(\"\".join(tobejoined))"
   ]
  },
  {
   "cell_type": "markdown",
   "id": "5030b5d0",
   "metadata": {},
   "source": [
    "# Introduction to sets"
   ]
  },
  {
   "cell_type": "code",
   "execution_count": null,
   "id": "9346fdba",
   "metadata": {},
   "outputs": [],
   "source": [
    "def average(array):\n",
    "    return sum(set(array))/len(set(array))"
   ]
  },
  {
   "cell_type": "markdown",
   "id": "ee1bfe7f-6471-41cd-aab8-6db5af04a5c4",
   "metadata": {},
   "source": [
    "# Symmetric Difference"
   ]
  },
  {
   "cell_type": "code",
   "execution_count": null,
   "id": "ebf6380c-f058-48fd-b8ca-8cda1fa305ad",
   "metadata": {},
   "outputs": [],
   "source": [
    "# Enter your code here. Read input from STDIN. Print output to STDOUT\n",
    "n1 = int(input())\n",
    "set1 = set(map(int, input().split()))\n",
    "n2 = int(input())\n",
    "set2 = set(map(int, input().split()))\n",
    "\n",
    "for element in sorted(set1.union(set2)):\n",
    "    if element not in (set1.intersection(set2)):\n",
    "        print(element)"
   ]
  },
  {
   "cell_type": "markdown",
   "id": "79478a9f-e629-46fd-b7c0-6992c714df18",
   "metadata": {},
   "source": [
    "# No idea!"
   ]
  },
  {
   "cell_type": "code",
   "execution_count": null,
   "id": "55e6ff17-fbdb-420d-b91b-f8d81d800f66",
   "metadata": {},
   "outputs": [],
   "source": [
    "# Enter your code here. Read input from STDIN. Print output to STDOUT\n",
    "[n, m] = input().split()\n",
    "arr = map(int, input().split())\n",
    "set1 = set(map(int, input().split()))\n",
    "set2 = set(map(int, input().split()))\n",
    "happiness = 0\n",
    "for element in arr:\n",
    "    if element in set1:\n",
    "        happiness += 1\n",
    "    if element in set2:\n",
    "        happiness += -1\n",
    "print(happiness)"
   ]
  },
  {
   "cell_type": "markdown",
   "id": "cfc1745b-4a4d-4309-a1f1-977d18654071",
   "metadata": {},
   "source": [
    "# Set.add()"
   ]
  },
  {
   "cell_type": "code",
   "execution_count": null,
   "id": "7074f82c-aaf7-49f7-8a2c-01d7bfd263a4",
   "metadata": {},
   "outputs": [],
   "source": [
    "# Enter your code here. Read input from STDIN. Print output to STDOUT\n",
    "stamps = set()\n",
    "n = int(input())\n",
    "for _ in range(n):\n",
    "    stamps.add(input())\n",
    "print(len(stamps))"
   ]
  },
  {
   "cell_type": "markdown",
   "id": "9efdd2c8-e2db-4a1b-b51f-650e1724d631",
   "metadata": {},
   "source": [
    "# Set .discard(), .remove() & .pop()"
   ]
  },
  {
   "cell_type": "code",
   "execution_count": null,
   "id": "2a1c2f31-4842-4a88-a862-2c054726c6a2",
   "metadata": {},
   "outputs": [],
   "source": [
    "# Enter your code here. Read input from STDIN. Print output to STDOUT\n",
    "card = int(input())\n",
    "my_set = set(map(int, input().split()))\n",
    "numb_commands = int(input())\n",
    "\n",
    "for _ in range(numb_commands):\n",
    "    command = input().split()\n",
    "    comm = command[0]\n",
    "    if len(command) == 2:\n",
    "        elem = int(command[1])\n",
    "    if comm == \"pop\":\n",
    "        try:\n",
    "            my_set.pop()\n",
    "        except KeyError:\n",
    "            pass\n",
    "    elif comm == \"remove\":\n",
    "        try:\n",
    "            my_set.remove(elem)\n",
    "        except KeyError: \n",
    "            pass\n",
    "    elif comm == \"discard\":\n",
    "        my_set.discard(elem)\n",
    "    else:\n",
    "        continue\n",
    "        \n",
    "print(sum(my_set))"
   ]
  },
  {
   "cell_type": "markdown",
   "id": "6a5d684e-76a4-4659-b582-5a04cacd7c5c",
   "metadata": {},
   "source": [
    "# Set .union() Operation"
   ]
  },
  {
   "cell_type": "code",
   "execution_count": null,
   "id": "8274e12d-7fcf-4e83-b600-a92af8c28162",
   "metadata": {},
   "outputs": [],
   "source": [
    "# Enter your code here. Read input from STDIN. Print output to STDOUT\n",
    "n = int(input())\n",
    "english_enrolled = set(map(int, input().split()))\n",
    "m = int(input())\n",
    "french_enrolled = set(map(int, input().split()))\n",
    "print(len(english_enrolled.union(french_enrolled)))"
   ]
  },
  {
   "cell_type": "markdown",
   "id": "7e275bbc-e709-45a6-bd93-781ad664ee73",
   "metadata": {},
   "source": [
    "# Set .intersection() Operation"
   ]
  },
  {
   "cell_type": "code",
   "execution_count": null,
   "id": "36814762-6ca7-43ba-8352-15baa71e6d59",
   "metadata": {},
   "outputs": [],
   "source": [
    "# Enter your code here. Read input from STDIN. Print output to STDOUT\n",
    "n = int(input())\n",
    "english_enrolled = set(map(int, input().split()))\n",
    "m = int(input())\n",
    "french_enrolled = set(map(int, input().split()))\n",
    "print(len(english_enrolled.intersection(french_enrolled)))"
   ]
  },
  {
   "cell_type": "markdown",
   "id": "afbdf381-cc71-4b5e-8e7a-8be71ce40372",
   "metadata": {},
   "source": [
    "# Set .difference() Operation"
   ]
  },
  {
   "cell_type": "code",
   "execution_count": null,
   "id": "fea2c2cd-d8f9-4316-afeb-b3bf719d93fe",
   "metadata": {},
   "outputs": [],
   "source": [
    "# Enter your code here. Read input from STDIN. Print output to STDOUT\n",
    "n = int(input())\n",
    "english_enrolled = set(map(int, input().split()))\n",
    "m = int(input())\n",
    "french_enrolled = set(map(int, input().split()))\n",
    "print(len(english_enrolled.difference(french_enrolled)))"
   ]
  },
  {
   "cell_type": "markdown",
   "id": "1a518283-e287-4821-b795-67b1fe53576a",
   "metadata": {},
   "source": [
    "# Set .symmetric_difference() Operation"
   ]
  },
  {
   "cell_type": "code",
   "execution_count": null,
   "id": "0ca60193-c7de-45a5-8e73-d2af62d2000a",
   "metadata": {},
   "outputs": [],
   "source": [
    "# Enter your code here. Read input from STDIN. Print output to STDOUT\n",
    "n = int(input())\n",
    "english_enrolled = set(map(int, input().split()))\n",
    "m = int(input())\n",
    "french_enrolled = set(map(int, input().split()))\n",
    "print(len(english_enrolled.symmetric_difference(french_enrolled)))"
   ]
  },
  {
   "cell_type": "markdown",
   "id": "ac0a7861-779a-4fd7-b3ce-5682047d0ce8",
   "metadata": {},
   "source": [
    "# Set Mutations"
   ]
  },
  {
   "cell_type": "code",
   "execution_count": null,
   "id": "eb47b3e2-e06d-4703-b2b9-77a3142aa6ea",
   "metadata": {},
   "outputs": [],
   "source": [
    "# Enter your code here. Read input from STDIN. Print output to STDOUT\n",
    "n = int(input())\n",
    "my_set = set(map(int, input().split()))\n",
    "num_other_sets = int(input())\n",
    "for _ in range(num_other_sets):\n",
    "    command = input().split()[0]\n",
    "    new_set = set(map(int, input().split()))\n",
    "    if command == \"intersection_update\":\n",
    "        my_set.intersection_update(new_set)\n",
    "    elif command == \"update\":\n",
    "        my_set.update(new_set)\n",
    "    elif command == \"symmetric_difference_update\":\n",
    "        my_set.symmetric_difference_update(new_set)\n",
    "    elif command == \"difference_update\":\n",
    "        my_set.difference_update(new_set)\n",
    "        \n",
    "print(sum(my_set))"
   ]
  },
  {
   "cell_type": "markdown",
   "id": "7f43499b-be66-4507-aa62-59057ae0659e",
   "metadata": {},
   "source": [
    "# The Captain's Room"
   ]
  },
  {
   "cell_type": "code",
   "execution_count": null,
   "id": "671f10b4-4518-4267-9b3f-59ee5c95aada",
   "metadata": {},
   "outputs": [],
   "source": [
    "# Enter your code here. Read input from STDIN. Print output to STDOUT\n",
    "n = int(input())\n",
    "room_list = list(map(int, input().split()))\n",
    "room_set = set(room_list)\n",
    "\n",
    "for room in room_set:\n",
    "    room_list.remove(room)\n",
    "    \n",
    "captain_room = room_set.difference(set(room_list)).pop()\n",
    "print(captain_room)"
   ]
  },
  {
   "cell_type": "markdown",
   "id": "40263fa8-9fde-4a7d-a06f-53c48e6ba8b5",
   "metadata": {},
   "source": [
    "# Check Subset"
   ]
  },
  {
   "cell_type": "code",
   "execution_count": null,
   "id": "d0d4cf8b-e9b1-42d0-b98b-3bc2c8ca3695",
   "metadata": {},
   "outputs": [],
   "source": [
    "# Enter your code here. Read input from STDIN. Print output to STDOUT\n",
    "number_of_tests = int(input())\n",
    "for _ in range(number_of_tests):\n",
    "    cardA = int(input())\n",
    "    A = set(map(int, input().split()))\n",
    "    cardB = int(input())\n",
    "    B = set(map(int, input().split()))\n",
    "    print(A.issubset(B))"
   ]
  },
  {
   "cell_type": "markdown",
   "id": "eb7030b7-bbae-4e24-9d50-be76021d5075",
   "metadata": {},
   "source": [
    "# Check Strict Superset"
   ]
  },
  {
   "cell_type": "code",
   "execution_count": null,
   "id": "58f571b1-df62-4d20-adc4-27e0f7dbd6e1",
   "metadata": {},
   "outputs": [],
   "source": [
    "# Enter your code here. Read input from STDIN. Print output to STDOUT\n",
    "set_A = set(map(int, input().split()))\n",
    "n = int(input())\n",
    "boolean = True \n",
    "for _ in range(n):\n",
    "    subset = set(map(int, input().split()))\n",
    "    if set_A.issuperset(subset) == False or set_A.intersection(subset) == set_A:\n",
    "        boolean = False\n",
    "print(boolean)"
   ]
  },
  {
   "cell_type": "markdown",
   "id": "92db704a-bee2-4fe9-9b35-285487960971",
   "metadata": {},
   "source": [
    "# collections.Counter()"
   ]
  },
  {
   "cell_type": "code",
   "execution_count": null,
   "id": "f825d38c-637d-4b9e-9e53-25866a5b993f",
   "metadata": {},
   "outputs": [],
   "source": [
    "# Enter your code here. Read input from STDIN. Print output to STDOUT\n",
    "from collections import Counter\n",
    "\n",
    "number_of_shoes = int(input())\n",
    "available_shoes = Counter(map(int, input().split()))\n",
    "number_of_costumers = int(input())\n",
    "amount_of_money = 0\n",
    "for _ in range(number_of_costumers):\n",
    "    order = input().split()\n",
    "    desired_size = int(order[0])\n",
    "    payed_money = int(order[1])\n",
    "    if available_shoes[desired_size] > 0:\n",
    "        available_shoes[desired_size] -= 1\n",
    "        amount_of_money += payed_money\n",
    "    else:\n",
    "        continue\n",
    "print(amount_of_money)"
   ]
  },
  {
   "cell_type": "markdown",
   "id": "e6d5f47e-3e56-44ce-a76d-da7ddbb8d8d4",
   "metadata": {},
   "source": [
    "# DefaultDict tutorial"
   ]
  },
  {
   "cell_type": "code",
   "execution_count": null,
   "id": "fd0c2cd8-2621-492d-bd8f-f67f9974c1af",
   "metadata": {},
   "outputs": [],
   "source": [
    "# Enter your code here. Read input from STDIN. Print output to STDOUT\n",
    "from collections import defaultdict\n",
    "d = defaultdict(list)\n",
    "list1=[]\n",
    "n, m = map(int,input().split())\n",
    "for i in range(1, n+1):\n",
    "    d[input()].append(str(i))\n",
    "\n",
    "for i in range(m):\n",
    "    b = input()\n",
    "    if b in d: \n",
    "        print(' '.join(d[b]))\n",
    "    else: \n",
    "        print(-1)"
   ]
  },
  {
   "cell_type": "markdown",
   "id": "4b471e59-5c6e-4ef8-89b4-2aaef2b84268",
   "metadata": {},
   "source": [
    "# Collections.namedtuple()"
   ]
  },
  {
   "cell_type": "code",
   "execution_count": null,
   "id": "340bcf3d-3a85-45fe-857f-8091dc6d4c92",
   "metadata": {},
   "outputs": [],
   "source": [
    "# Enter your code here. Read input from STDIN. Print output to STDOUT\n",
    "from collections import namedtuple\n",
    "\n",
    "n = int(input())\n",
    "columns = input().split()\n",
    "\n",
    "total_marks = 0\n",
    "for _ in range(n):\n",
    "    registered_students = namedtuple('student', columns)\n",
    "    MARKS, CLASS, NAME, ID = input().split()\n",
    "    student = registered_students(MARKS, CLASS, NAME, ID)\n",
    "    total_marks += int(student.MARKS)\n",
    "print('{:.2f}'.format(total_marks / n))"
   ]
  },
  {
   "cell_type": "markdown",
   "id": "ece9fa94-fedd-4a40-a3a0-9617b854d902",
   "metadata": {},
   "source": [
    "# Collections.OrderedDict()"
   ]
  },
  {
   "cell_type": "code",
   "execution_count": null,
   "id": "3b9ed8c4-ec0b-49d3-abb6-ccfe3483cbfd",
   "metadata": {},
   "outputs": [],
   "source": [
    "# Enter your code here. Read input from STDIN. Print output to STDOUT\n",
    "from collections import OrderedDict\n",
    "n = int(input())\n",
    "items = OrderedDict()\n",
    "for _ in range(n):\n",
    "    item_price = input().split()\n",
    "    l = len(item_price)\n",
    "    item = \" \".join(item_price[:l-1])\n",
    "    price = int(item_price[l-1])\n",
    "    if item in items.keys():\n",
    "        items[item] += price\n",
    "    else:\n",
    "        items[item] = price\n",
    "\n",
    "for key in items:\n",
    "    print(key+\" \"+str(items[key]))"
   ]
  },
  {
   "cell_type": "markdown",
   "id": "06b57e39-1dfe-4d87-9a59-a684625ddd57",
   "metadata": {},
   "source": [
    "# Word order"
   ]
  },
  {
   "cell_type": "code",
   "execution_count": null,
   "id": "3f09bc08-26a1-4732-8d43-26d5130b6840",
   "metadata": {},
   "outputs": [],
   "source": [
    "# Enter your code here. Read input from STDIN. Print output to STDOUT\n",
    "from collections import OrderedDict\n",
    "n = int(input())\n",
    "words = OrderedDict()\n",
    "counter = 0\n",
    "for _ in range(n):\n",
    "    word = str(str(input()))\n",
    "    if word in words.keys():\n",
    "        words[word] += 1\n",
    "    else: \n",
    "        words[word] = 1\n",
    "        counter += 1\n",
    "\n",
    "print(counter)\n",
    "print(\" \".join([str(words[key]) for key in words]))"
   ]
  },
  {
   "cell_type": "markdown",
   "id": "449c9c96-51f2-4ffe-8659-a35867b8a584",
   "metadata": {},
   "source": [
    "# Collections.deque()"
   ]
  },
  {
   "cell_type": "code",
   "execution_count": null,
   "id": "3c84074c-a102-4014-b557-2fcd40313b83",
   "metadata": {},
   "outputs": [],
   "source": [
    "# Enter your code here. Read input from STDIN. Print output to STDOUT\n",
    "from collections import deque\n",
    "n = int(input())\n",
    "double_queue = deque()\n",
    "for _ in range(n):\n",
    "    command = input().split()\n",
    "    comm = command[0]\n",
    "    if len(command) == 2:\n",
    "        elem = int(command[1])\n",
    "    if comm == \"append\":\n",
    "        double_queue.append(elem)\n",
    "    if comm == \"appendleft\":\n",
    "        double_queue.appendleft(elem)\n",
    "    if comm == \"pop\":\n",
    "        try:\n",
    "            double_queue.pop()\n",
    "        except IndexError:\n",
    "            pass\n",
    "    if comm == \"popleft\":\n",
    "        try:\n",
    "            double_queue.popleft()\n",
    "        except IndexError:\n",
    "            pass\n",
    "print(\" \".join([str(elem) for elem in double_queue]))"
   ]
  },
  {
   "cell_type": "markdown",
   "id": "dfff15b0-980e-4ff4-a751-13c502e95099",
   "metadata": {},
   "source": [
    "# Pilling Up!"
   ]
  },
  {
   "cell_type": "code",
   "execution_count": null,
   "id": "004cbea8-cbf4-49dc-ad2b-59b2499a320c",
   "metadata": {},
   "outputs": [],
   "source": [
    "from collections import deque\n",
    "\n",
    "def pop_largest(double_queue):\n",
    "    front, back = double_queue[0], double_queue[-1]\n",
    "    if front >= back:\n",
    "        return double_queue.popleft()\n",
    "    else:\n",
    "        return double_queue.pop()\n",
    "\n",
    "def double_test(double_queue):\n",
    "    largest = pop_largest(double_queue)\n",
    "    while len(double_queue) > 0:\n",
    "        on_top = largest\n",
    "        largest = pop_largest(double_queue)\n",
    "        if largest > on_top:\n",
    "            return False\n",
    "    return True\n",
    "\n",
    "\n",
    "number_of_tests = int(input())\n",
    "for _ in range(number_of_tests):\n",
    "    size = int(input())\n",
    "    blocks = deque(list(map(int, input().split())))\n",
    "    if double_test(blocks):\n",
    "        print('Yes')\n",
    "    else:\n",
    "        print('No')"
   ]
  },
  {
   "cell_type": "markdown",
   "id": "a4978bfc-86ac-4f67-bbdb-afe6a5ac2f9f",
   "metadata": {},
   "source": [
    "# Company Logo"
   ]
  },
  {
   "cell_type": "code",
   "execution_count": null,
   "id": "ee23c97d-8744-4895-89d9-063fea5c3b79",
   "metadata": {},
   "outputs": [],
   "source": [
    "#!/bin/python3\n",
    "\n",
    "import math\n",
    "import os\n",
    "import random\n",
    "import re\n",
    "import sys\n",
    "\n",
    "if __name__ == '__main__':\n",
    "    s = input()\n",
    "\n",
    "from collections import OrderedDict\n",
    "\n",
    "letters = OrderedDict()\n",
    "\n",
    "for _ in range(len(s)):\n",
    "    if s[_] in letters:\n",
    "        letters[s[_]] += 1\n",
    "    else:\n",
    "        letters[s[_]] = 1        \n",
    "\n",
    "priorities = list(reversed(sorted([letters[key] for key in letters.keys()])))\n",
    "alpha_letters = sorted([key for key in letters.keys()])\n",
    "\n",
    "letters_priority = []\n",
    "letter_queue = []\n",
    "\n",
    "for priority in priorities:\n",
    "    for letter in alpha_letters:\n",
    "        if (letter, priority) in letters.items() and letter not in letter_queue:\n",
    "            letters_priority.append([letter, str(priority)])\n",
    "            letter_queue.append(letter)\n",
    "        else:\n",
    "            continue\n",
    "\n",
    "for _ in range(3):\n",
    "    print(\" \".join(letters_priority[_]))"
   ]
  },
  {
   "cell_type": "markdown",
   "id": "dc7bc766-6e87-4064-92c6-a450bac8d5ae",
   "metadata": {},
   "source": [
    "# Calendar Module"
   ]
  },
  {
   "cell_type": "code",
   "execution_count": null,
   "id": "9e67713f-49ff-45b0-b83b-f10398e7c529",
   "metadata": {},
   "outputs": [],
   "source": [
    "import calendar\n",
    "\n",
    "MM, DD, YYYY = map(int, input().split())\n",
    "print(calendar.day_name[calendar.weekday(YYYY,MM,DD)].upper())"
   ]
  },
  {
   "cell_type": "markdown",
   "id": "c5f6a7ff-6be5-4882-8092-5b6017839eed",
   "metadata": {},
   "source": [
    "# Time Delta"
   ]
  },
  {
   "cell_type": "code",
   "execution_count": null,
   "id": "5851a4e5-dd09-4475-95da-5b8a334370e8",
   "metadata": {},
   "outputs": [],
   "source": [
    "from datetime import datetime\n",
    "def time_delta(t1, t2):\n",
    "    formatted = '%a %d %b %Y %H:%M:%S %z'\n",
    "    t1 = datetime.strptime(t1, formatted)\n",
    "    t2 = datetime.strptime(t2, formatted)\n",
    "    return str(int(abs((t1-t2).total_seconds())))   "
   ]
  },
  {
   "cell_type": "markdown",
   "id": "6e1cf57e-d1d0-478f-81a0-c7d9d785095d",
   "metadata": {},
   "source": [
    "# Exceptions"
   ]
  },
  {
   "cell_type": "code",
   "execution_count": null,
   "id": "7dfeaf93-a136-45e7-8605-9c6ff593a13f",
   "metadata": {},
   "outputs": [],
   "source": [
    "# Enter your code here. Read input from STDIN. Print output to STDOUT\n",
    "for _ in range(int(input())):\n",
    "    try:\n",
    "        a,b=map(int,input().split())\n",
    "        print(a//b)\n",
    "    except Exception as e:\n",
    "        print(\"Error Code:\",e)"
   ]
  },
  {
   "cell_type": "markdown",
   "id": "11a6f1c4-8c42-415e-a485-52ec2ce02719",
   "metadata": {},
   "source": [
    "# Map and Lambda Function"
   ]
  },
  {
   "cell_type": "code",
   "execution_count": null,
   "id": "586c3f71-7537-42fa-b8d5-741f2f018f4b",
   "metadata": {},
   "outputs": [],
   "source": [
    "cube = lambda x: x**3 # complete the lambda function \n",
    "\n",
    "def recursiveFibo(n):\n",
    "    if n == 1 or n == 0:\n",
    "        return n\n",
    "    else:\n",
    "        return recursiveFibo(n-1) + recursiveFibo(n-2)\n",
    "\n",
    "def fibonacci(n):\n",
    "    return([recursiveFibo(i) for i in range(n)])\n",
    "\n",
    "if __name__ == '__main__':\n",
    "    n = int(input())\n",
    "    print(list(map(cube, fibonacci(n))))"
   ]
  },
  {
   "cell_type": "markdown",
   "id": "ac9a0171-ab87-4f70-ac38-adff4730f52d",
   "metadata": {},
   "source": [
    "# XML 1: Find the score"
   ]
  },
  {
   "cell_type": "code",
   "execution_count": null,
   "id": "8d5fe53e-d260-48c0-a0e5-db5b0597adf0",
   "metadata": {},
   "outputs": [],
   "source": [
    "import sys\n",
    "import xml.etree.ElementTree as etree\n",
    "\n",
    "def get_attr_number(node):\n",
    "    return len(node.items()) + sum([get_attr_number(x) for x in node])\n",
    "\n",
    "if __name__ == '__main__':\n",
    "    sys.stdin.readline()\n",
    "    xml = sys.stdin.read()\n",
    "    tree = etree.ElementTree(etree.fromstring(xml))\n",
    "    root = tree.getroot()\n",
    "    print(get_attr_number(root))"
   ]
  },
  {
   "cell_type": "markdown",
   "id": "a7424925-5113-4a65-98cf-19303e2e800e",
   "metadata": {},
   "source": [
    "# XML 2: Find the maximum depth"
   ]
  },
  {
   "cell_type": "code",
   "execution_count": null,
   "id": "83e4440d-9934-45e9-bf1e-d104ebfce029",
   "metadata": {},
   "outputs": [],
   "source": [
    "import xml.etree.ElementTree as etree\n",
    "\n",
    "maxdepth = 0\n",
    "def depth(elem, level):\n",
    "    global maxdepth\n",
    "    if level == maxdepth:                  #Recursion basis\n",
    "        maxdepth += 1 \n",
    "    for child in elem:                     #Recursive call\n",
    "        depth(child, level + 1)\n",
    "if __name__ == '__main__':\n",
    "    n = int(input())\n",
    "    xml = \"\"\n",
    "    for i in range(n):\n",
    "        xml =  xml + input() + \"\\n\"\n",
    "    tree = etree.ElementTree(etree.fromstring(xml))\n",
    "    depth(tree.getroot(), -1)\n",
    "    print(maxdepth)"
   ]
  },
  {
   "cell_type": "markdown",
   "id": "0b3449f2-3f5a-4930-ad86-14707e72b6e7",
   "metadata": {},
   "source": [
    "# Detect Floating Point Number"
   ]
  },
  {
   "cell_type": "code",
   "execution_count": null,
   "id": "d51e0702-6e51-4ba0-aaa1-41d5c3e6bd2c",
   "metadata": {},
   "outputs": [],
   "source": [
    "import re\n",
    "float_regex = \"^[+-]?\\d*\\.\\d+\"\n",
    "n = int(input())\n",
    "for _ in range(n):\n",
    "    strinput = str(input())\n",
    "    matches = re.findall(float_regex, strinput)\n",
    "    if len(matches) == 0:\n",
    "        print('False')\n",
    "    else:\n",
    "        print(matches[0] == strinput)"
   ]
  },
  {
   "cell_type": "markdown",
   "id": "4cc8f8b8-5ddb-4cfc-8e14-333bc71f24c2",
   "metadata": {},
   "source": [
    "# Re.split()"
   ]
  },
  {
   "cell_type": "code",
   "execution_count": null,
   "id": "8d2ee9fb-e791-4219-84f4-a47da5b5b942",
   "metadata": {},
   "outputs": [],
   "source": [
    "regex_pattern = r\"[.,]\"\t# Do not delete 'r'.\n",
    "\n",
    "import re\n",
    "print(\"\\n\".join(re.split(regex_pattern, input())))"
   ]
  },
  {
   "cell_type": "markdown",
   "id": "18d417b4-3353-400e-8e62-6b38f10a4c86",
   "metadata": {},
   "source": [
    "# Group(), Groups() & Groupdict()"
   ]
  },
  {
   "cell_type": "code",
   "execution_count": null,
   "id": "5ee819fd-91a4-4c88-a5f0-56a26f901dce",
   "metadata": {},
   "outputs": [],
   "source": [
    "import re\n",
    "strinput = str(input())\n",
    "reg_occ = r\"([a-zA-Z0-9])\\1+\"   #ACHTUNG underscore in \\w, not in [a-zA-Z0-9]\n",
    "matches = re.search(reg_occ, strinput)        \n",
    "if matches:\n",
    "    print(matches.group(1))\n",
    "else:\n",
    "    print('-1')"
   ]
  },
  {
   "cell_type": "markdown",
   "id": "6304c9cf-09d6-4423-bb7a-4b513f9999ba",
   "metadata": {},
   "source": [
    "# Re.findall() & Re.finditer()"
   ]
  },
  {
   "cell_type": "code",
   "execution_count": null,
   "id": "5b14a142-50d4-416e-aeed-1fc3491efe9c",
   "metadata": {},
   "outputs": [],
   "source": [
    "import re\n",
    "strinput = str(input())\n",
    "reg_vowels = r'(?<=[qwrtypsdfghjklzxcvbnm])([aeiou]{2,})(?=[qwrtypsdfghjklzxcvbnm])'\n",
    "matches = re.findall(reg_vowels, strinput, re.IGNORECASE)\n",
    "\n",
    "if matches:\n",
    "    for string in matches:\n",
    "        print(string)\n",
    "else:\n",
    "    print('-1')"
   ]
  },
  {
   "cell_type": "markdown",
   "id": "bf71f260-5262-4bef-ae43-647cf7f7b542",
   "metadata": {},
   "source": [
    "# Re.start() & Re.end()"
   ]
  },
  {
   "cell_type": "code",
   "execution_count": null,
   "id": "e867972d-6d82-4312-9efa-29bb572bbb21",
   "metadata": {},
   "outputs": [],
   "source": [
    "import re\n",
    "strinput = str(input())\n",
    "stregex = re.compile(str(input()))\n",
    "m = stregex.search(strinput)\n",
    "if not m:\n",
    "    print('(-1, -1)')\n",
    "while m:\n",
    "    print((m.start(), m.end()-1))\n",
    "    m = stregex.search(strinput, m.start()+1)"
   ]
  },
  {
   "cell_type": "markdown",
   "id": "52221e80-d91d-4a0e-beef-1e142114f1ca",
   "metadata": {},
   "source": [
    "# Regex Substitution"
   ]
  },
  {
   "cell_type": "code",
   "execution_count": null,
   "id": "548ef349-db52-44b9-8760-a5c684a65ec8",
   "metadata": {},
   "outputs": [],
   "source": [
    "import re\n",
    "def modify(match):\n",
    "    if match.group(1) == '&&':\n",
    "        return 'and'\n",
    "    else:\n",
    "        return 'or'\n",
    "n = int(input())\n",
    "for i in range(n):\n",
    "    print(re.sub(r\"(?<= )(\\|\\||&&)(?= )\", modify, input()))"
   ]
  },
  {
   "cell_type": "markdown",
   "id": "e245acf2-3e76-4dfc-acf9-7a08dcb03012",
   "metadata": {},
   "source": [
    "# Validating roman numbers"
   ]
  },
  {
   "cell_type": "code",
   "execution_count": null,
   "id": "00b95ac2-9705-4ec7-b75f-e3c9d4b1744c",
   "metadata": {},
   "outputs": [],
   "source": [
    "digi = '(V?[I]{0,3}|I[VX])'\n",
    "tens = '(L?[X]{0,3}|X[LC])'\n",
    "hund = '(D?[C]{0,3}|C[DM])'\n",
    "thou = 'M{0,3}'\n",
    "regex_pattern = thou + hund + tens + digi + '$'"
   ]
  },
  {
   "cell_type": "markdown",
   "id": "1c20db01-e491-4c00-bee7-1f8141da6c75",
   "metadata": {},
   "source": [
    "# Validating phone numbers"
   ]
  },
  {
   "cell_type": "code",
   "execution_count": null,
   "id": "6eaa6f00-35fd-4b04-a7cd-dc3df251cf25",
   "metadata": {},
   "outputs": [],
   "source": [
    "for _ in range(int(input())):\n",
    "    if re.match(r'[789]\\d{9}$',input()):   \n",
    "        print('YES')  \n",
    "    else:  \n",
    "        print('NO')"
   ]
  },
  {
   "cell_type": "markdown",
   "id": "8d7172dc-b791-4c08-8848-fe70faca59b1",
   "metadata": {},
   "source": [
    "# Validating and Parsing Email Address"
   ]
  },
  {
   "cell_type": "code",
   "execution_count": null,
   "id": "86a0c6f8-0da4-4a10-8505-c66dc2950a29",
   "metadata": {},
   "outputs": [],
   "source": [
    "import re\n",
    "import email.utils\n",
    "\n",
    "for _ in range(int(input())):\n",
    "    name, mail = input().split()\n",
    "    if re.match(r'<[a-zA-Z][\\w\\.-]*@[a-zA-Z]*\\.[a-zA-Z]{1,3}>', mail):\n",
    "        print(name, mail)"
   ]
  },
  {
   "cell_type": "markdown",
   "id": "fb979f7b-6cf5-4193-8c1c-08a6eb34ecba",
   "metadata": {},
   "source": [
    "# Hex Color Code"
   ]
  },
  {
   "cell_type": "code",
   "execution_count": null,
   "id": "0ea0c657-8f4c-48d8-83a0-2735917a8d9d",
   "metadata": {},
   "outputs": [],
   "source": [
    "import re\n",
    "for _ in range(int(input())):\n",
    "    strinput = input()\n",
    "    splitted = strinput.split()\n",
    "    if len(splitted)>1  and  '{' not in splitted:\n",
    "        splitted = re.findall(r'#[a-fA-F0-9]{3,6}',strinput)\n",
    "        [print(i) for  i in splitted]"
   ]
  },
  {
   "cell_type": "markdown",
   "id": "a5afa259-465d-497b-9985-7b841a1af47f",
   "metadata": {},
   "source": [
    "# HTML Parser - Part 1"
   ]
  },
  {
   "cell_type": "code",
   "execution_count": null,
   "id": "33255c66-9293-40e0-a798-7b56b85e5315",
   "metadata": {},
   "outputs": [],
   "source": [
    "from html.parser import HTMLParser\n",
    "class MyHTMLParser(HTMLParser):\n",
    "    def handle_starttag(self, tag, attrs):        \n",
    "        print ('Start :',tag)\n",
    "        for ele in attrs:\n",
    "            print ('->',ele[0],'>',ele[1])\n",
    "            \n",
    "    def handle_endtag(self, tag):\n",
    "        print ('End   :',tag)\n",
    "        \n",
    "    def handle_startendtag(self, tag, attrs):\n",
    "        print ('Empty :',tag)\n",
    "        for ele in attrs:\n",
    "            print ('->',ele[0],'>',ele[1])\n",
    "            \n",
    "MyParser = MyHTMLParser()\n",
    "MyParser.feed(''.join([input().strip() for _ in range(int(input()))]))"
   ]
  },
  {
   "cell_type": "markdown",
   "id": "838c72bc-e473-46e7-bca9-109cbee99b38",
   "metadata": {},
   "source": [
    "# HTML Parse - Part 2"
   ]
  },
  {
   "cell_type": "code",
   "execution_count": null,
   "id": "4e772a20-a324-48cd-a95b-9a4cce1edef8",
   "metadata": {},
   "outputs": [],
   "source": [
    "from html.parser import HTMLParser\n",
    "\n",
    "class MyHTMLParser(HTMLParser):\n",
    "    def handle_comment(self, data):\n",
    "        if (len(data.split('\\n')) != 1):\n",
    "            print(\">>> Multi-line Comment\")\n",
    "        else:\n",
    "            print(\">>> Single-line Comment\")\n",
    "        print(data.replace(\"\\r\", \"\\n\"))\n",
    "    def handle_data(self, data):\n",
    "        if data.strip():\n",
    "            print(\">>> Data\")\n",
    "            print(data)\n",
    "html = \"\"       \n",
    "for i in range(int(input())):\n",
    "    html += input().rstrip()\n",
    "    html += '\\n'\n",
    "    \n",
    "parser = MyHTMLParser()\n",
    "parser.feed(html)\n",
    "parser.close()"
   ]
  },
  {
   "cell_type": "markdown",
   "id": "7f499313-ae48-4955-ae4b-13f7fa85631a",
   "metadata": {},
   "source": [
    "# Detect HTML Tags, Attributes and Attribute Values"
   ]
  },
  {
   "cell_type": "code",
   "execution_count": null,
   "id": "b3b075db-6e65-4998-84ad-e05c57027911",
   "metadata": {},
   "outputs": [],
   "source": [
    "from html.parser import HTMLParser\n",
    "class MyHTMLParser(HTMLParser):\n",
    "    def handle_starttag(self, tag, attrs):\n",
    "        print(tag)\n",
    "        [print('-> {} > {}'.format(*attr)) for attr in attrs]\n",
    "        \n",
    "html = '\\n'.join([input() for _ in range(int(input()))])\n",
    "parser = MyHTMLParser()\n",
    "parser.feed(html)\n",
    "parser.close()"
   ]
  },
  {
   "cell_type": "markdown",
   "id": "d9c61c8d-8f30-4f8a-9119-6a671c9d8e4a",
   "metadata": {},
   "source": [
    "# Validating UID"
   ]
  },
  {
   "cell_type": "code",
   "execution_count": null,
   "id": "f7820dc2-2bfe-4036-9acd-4329baaae12b",
   "metadata": {},
   "outputs": [],
   "source": [
    "import re\n",
    "for _ in range(int(input())):\n",
    "    strinput = input()\n",
    "    usable = \"\".join(sorted([strinput[i] for i in range(len(strinput))]))\n",
    "    try:\n",
    "        assert re.search(r'[A-Z]{2}', usable)\n",
    "        assert re.search(r'\\d\\d\\d', usable)\n",
    "        assert not re.search(r'[^a-zA-Z0-9]', usable)\n",
    "        assert not re.search(r'(.)\\1', usable)\n",
    "        assert len(usable) == 10\n",
    "    except:\n",
    "        print('Invalid')\n",
    "    else:\n",
    "        print('Valid')"
   ]
  },
  {
   "cell_type": "markdown",
   "id": "dbaa5cdb-00cd-4ff1-be9b-e9d3886f0434",
   "metadata": {},
   "source": [
    "# Validating Credit Card Number"
   ]
  },
  {
   "cell_type": "code",
   "execution_count": null,
   "id": "a51deb3f-b2e6-4670-8ed7-f80f413ada6d",
   "metadata": {},
   "outputs": [],
   "source": [
    "import re\n",
    "test = re.compile(\n",
    "    r\"^\"\n",
    "    r\"(?!.*(\\d)(-?\\1){3})\"\n",
    "    r\"[456]\"\n",
    "    r\"\\d{3}\"\n",
    "    r\"(?:-?\\d{4}){3}\"\n",
    "    r\"$\")\n",
    "for _ in range(int(input()):\n",
    "    if test.search(input().strip()):\n",
    "        print('Valid')\n",
    "    else:\n",
    "        print('Invalid')\n"
   ]
  },
  {
   "cell_type": "markdown",
   "id": "dfc5b6f9-ca8e-4236-a57a-200e56597bde",
   "metadata": {},
   "source": [
    "# Validating Postal Code"
   ]
  },
  {
   "cell_type": "code",
   "execution_count": null,
   "id": "3b988b6b-5d96-442d-8a19-880b6f4af272",
   "metadata": {},
   "outputs": [],
   "source": [
    "regex_integer_in_range = r\"^[1-9][\\d]{5}$\"\t# Do not delete 'r'.\n",
    "regex_alternating_repetitive_digit_pair = r\"(\\d)(?=\\d\\1)\"\t# Do not delete 'r'.\n",
    "\n",
    "import re\n",
    "P = input()\n",
    "\n",
    "print (bool(re.match(regex_integer_in_range, P)) \n",
    "and len(re.findall(regex_alternating_repetitive_digit_pair, P)) < 2)"
   ]
  },
  {
   "cell_type": "markdown",
   "id": "92645cff-b495-4397-a0de-8d70459218f5",
   "metadata": {},
   "source": [
    "# Matrix Script"
   ]
  },
  {
   "cell_type": "code",
   "execution_count": null,
   "id": "5a0c530d-f209-49e5-9b28-7be6929a6ac8",
   "metadata": {},
   "outputs": [],
   "source": [
    "n, m = list(map(int, input().split()))\n",
    "\n",
    "matrix = []\n",
    "for _ in range(n):\n",
    "    matrix.append(list(input()))\n",
    "\n",
    "matrix = list(zip(*matrix))\n",
    "\n",
    "to_be_sub = \"\"\n",
    "for tup in matrix:\n",
    "    for letter in tup:\n",
    "        to_be_sub += letter\n",
    "\n",
    "print(re.sub(r'(?<=\\w)([^\\w\\d]+)(?=\\w)', ' ', to_be_sub))"
   ]
  },
  {
   "cell_type": "markdown",
   "id": "9e8048ce-46ce-4cd8-bc35-1b3b029af22f",
   "metadata": {},
   "source": [
    "# Zipped!"
   ]
  },
  {
   "cell_type": "code",
   "execution_count": null,
   "id": "22ca9ccd-f0be-4164-954a-49118e480fcb",
   "metadata": {},
   "outputs": [],
   "source": [
    "# Enter your code here. Read input from STDIN. Print output to STDOUT\n",
    "students, subjects = list(map(int, input().split()))\n",
    "to_be_zipped = []\n",
    "for _ in range(subjects):\n",
    "    to_be_zipped.append(list(map(float, input().split())))\n",
    "for student in zip(*to_be_zipped):\n",
    "    print(sum(student)/subjects)"
   ]
  },
  {
   "cell_type": "markdown",
   "id": "babe059e-b17b-4847-b5de-b1eefa14ba90",
   "metadata": {},
   "source": [
    "# Athlete Sort"
   ]
  },
  {
   "cell_type": "code",
   "execution_count": null,
   "id": "ebe7bd81-d5eb-4cb4-bad0-eb7ab3607b8c",
   "metadata": {},
   "outputs": [],
   "source": [
    "#!/bin/python3\n",
    "\n",
    "import math\n",
    "import os\n",
    "import random\n",
    "import re\n",
    "import sys\n",
    "\n",
    "\n",
    "if __name__ == '__main__':\n",
    "    nm = input().split()\n",
    "\n",
    "    n = int(nm[0])\n",
    "\n",
    "    m = int(nm[1])\n",
    "\n",
    "    arr = []\n",
    "\n",
    "    for _ in range(n):\n",
    "        arr.append(list(map(int, input().rstrip().split())))\n",
    "\n",
    "    k = int(input())\n",
    "    \n",
    "sorted_arr = sorted(arr, key = lambda x : x[k])\n",
    "for athlete in sorted_arr:\n",
    "    print(\" \".join([str(value) for value in athlete]))"
   ]
  },
  {
   "cell_type": "markdown",
   "id": "863f184a-9d36-407b-9ba3-3fb699c64b9c",
   "metadata": {},
   "source": [
    "# ginortS"
   ]
  },
  {
   "cell_type": "code",
   "execution_count": null,
   "id": "d48a68b1-c9ac-4295-bc78-13ddf57eddc9",
   "metadata": {},
   "outputs": [],
   "source": [
    "# Enter your code here. Read input from STDIN. Print output to STDOUT\n",
    "string_input = str(input())\n",
    "uppers = []\n",
    "lowers = []\n",
    "odd_digits = []\n",
    "even_digits = []\n",
    "for i in range(len(string_input)):\n",
    "    if string_input[i].isdigit():\n",
    "        if int(string_input[i]) % 2 == 0:\n",
    "            even_digits.append(string_input[i])\n",
    "        else:\n",
    "            odd_digits.append(string_input[i])\n",
    "    if string_input[i].islower():\n",
    "        lowers.append(string_input[i])\n",
    "    if string_input[i].isupper():\n",
    "        uppers.append(string_input[i])\n",
    "\n",
    "all_chars = sorted(lowers) + sorted(uppers) + sorted(odd_digits) \\\n",
    "          + sorted(even_digits)\n",
    "print(\"\".join(all_chars))"
   ]
  },
  {
   "cell_type": "markdown",
   "id": "067ceb95-b83f-4fee-b6b2-e39c1409177d",
   "metadata": {},
   "source": [
    "# Standardize Mobile Number Using Decorators"
   ]
  },
  {
   "cell_type": "code",
   "execution_count": null,
   "id": "bdc06843-6194-49ff-a8a5-a4f7dddff5d8",
   "metadata": {},
   "outputs": [],
   "source": [
    "def wrapper(f):\n",
    "    def fun(l):\n",
    "        f([\"+91 \" + number[-10:-5] + \" \" + number[-5:] for number in l])\n",
    "    return fun\n",
    "\n",
    "@wrapper\n",
    "def sort_phone(l):\n",
    "    print(*sorted(l), sep='\\n')\n",
    "\n",
    "if __name__ == '__main__':\n",
    "    l = [input() for _ in range(int(input()))]\n",
    "    sort_phone(l) "
   ]
  },
  {
   "cell_type": "markdown",
   "id": "0bef3e4f-2def-4241-b7cb-8d04a248810f",
   "metadata": {},
   "source": [
    "# Decorators 2 - Name Directory"
   ]
  },
  {
   "cell_type": "code",
   "execution_count": null,
   "id": "b373ab53-3849-4c1d-8964-02c81f6b1e2b",
   "metadata": {},
   "outputs": [],
   "source": [
    "import operator\n",
    "def person_lister(f):\n",
    "    def inner(people):\n",
    "        return map(f, sorted(people, key = lambda x: int(x[2])))\n",
    "    return inner\n",
    "\n",
    "@person_lister\n",
    "def name_format(person):\n",
    "    return (\"Mr. \" if person[3] == \"M\" else \"Ms. \") + person[0] + \" \" + person[1]\n",
    "\n",
    "if __name__ == '__main__':\n",
    "    people = [input().split() for i in range(int(input()))]\n",
    "    print(*name_format(people), sep='\\n')"
   ]
  },
  {
   "cell_type": "markdown",
   "id": "b48eefab-f047-4b3a-91e0-73930f5804a7",
   "metadata": {},
   "source": [
    "# Arrays"
   ]
  },
  {
   "cell_type": "code",
   "execution_count": null,
   "id": "96dcd053-cc92-4165-96b4-d91d22c099f0",
   "metadata": {},
   "outputs": [],
   "source": [
    "import numpy\n",
    "def arrays(arr):\n",
    "    arr.reverse()\n",
    "    return numpy.array(list(map(float, arr)))   \n",
    "\n",
    "arr = input().strip().split(' ')\n",
    "result = arrays(arr)\n",
    "print(result)"
   ]
  },
  {
   "cell_type": "markdown",
   "id": "4a4093f7-0997-4763-896e-422292da4c49",
   "metadata": {},
   "source": [
    "# Shape and Reshape"
   ]
  },
  {
   "cell_type": "code",
   "execution_count": null,
   "id": "791b9260-a188-4921-a287-58d26cdbba8d",
   "metadata": {},
   "outputs": [],
   "source": [
    "import numpy\n",
    "arr = input().split()\n",
    "arrayed = numpy.array(list(map(int, arr))) \n",
    "#arrayed.shape = (3,3)\n",
    "#print(arrayed)\n",
    "print(numpy.reshape(arrayed, (3,3)))"
   ]
  },
  {
   "cell_type": "markdown",
   "id": "881f866d-9a1e-4db9-8fd6-4c781700e7a9",
   "metadata": {},
   "source": [
    "# Transpose and Flatten"
   ]
  },
  {
   "cell_type": "code",
   "execution_count": null,
   "id": "41bfcf09-3580-4ada-9583-9a78e5c52dc4",
   "metadata": {},
   "outputs": [],
   "source": [
    "import numpy\n",
    "n, m = input().split()\n",
    "arr = []\n",
    "for _ in range(int(n)):\n",
    "    arr.append(list(map(int, input().split())))\n",
    "arrayed = numpy.array(arr)\n",
    "print(arrayed.transpose())\n",
    "print(arrayed.flatten())"
   ]
  },
  {
   "cell_type": "markdown",
   "id": "c6506920-1d9f-4ce7-9623-ae51d725d7c0",
   "metadata": {},
   "source": [
    "# Concatenate"
   ]
  },
  {
   "cell_type": "code",
   "execution_count": null,
   "id": "62f853c3-bba8-4053-bc0a-712ac83eda54",
   "metadata": {},
   "outputs": [],
   "source": [
    "import numpy\n",
    "n, m, p = input().split()\n",
    "arr1 = []\n",
    "arr2 = []\n",
    "for _ in range(int(n)):\n",
    "    arr1.append(list(map(int, input().split())))\n",
    "for _ in range(int(m)):\n",
    "    arr2.append(list(map(int, input().split())))\n",
    "print(numpy.concatenate((numpy.array(arr1), numpy.array(arr2)), axis=0))"
   ]
  },
  {
   "cell_type": "markdown",
   "id": "9a4667f5-da0c-47e7-a5c2-ea6a7b934940",
   "metadata": {},
   "source": [
    "# Zero and ones"
   ]
  },
  {
   "cell_type": "code",
   "execution_count": null,
   "id": "a575153f-0054-457a-bfc2-41bb891b334b",
   "metadata": {},
   "outputs": [],
   "source": [
    "import numpy\n",
    "dimensions = input().split()\n",
    "size = tuple(map(int, dimensions))\n",
    "print(numpy.zeros(size, dtype = numpy.int))\n",
    "print(numpy.ones(size, dtype = numpy.int))"
   ]
  },
  {
   "cell_type": "markdown",
   "id": "0ec5ca03-6a4f-40f6-98e8-74a75ecd6ad0",
   "metadata": {},
   "source": [
    "# Eye and Identity"
   ]
  },
  {
   "cell_type": "code",
   "execution_count": null,
   "id": "baddcf30-df24-4ad7-a014-838961fb9599",
   "metadata": {},
   "outputs": [],
   "source": [
    "import numpy\n",
    "numpy.set_printoptions(legacy='1.13')\n",
    "n, m = list(map(int, input().split()))\n",
    "if n == m:\n",
    "    print(numpy.identity(n))\n",
    "else:\n",
    "    print(numpy.eye(n, m, k = 0))"
   ]
  },
  {
   "cell_type": "markdown",
   "id": "2a666620-9e7a-4803-9fe7-568c3f102d6b",
   "metadata": {},
   "source": [
    "# Array Mathematics"
   ]
  },
  {
   "cell_type": "code",
   "execution_count": null,
   "id": "c3dc64a8-4512-4de4-b174-ccae9ef6b39a",
   "metadata": {},
   "outputs": [],
   "source": [
    "import numpy\n",
    "n, m = list(map(int, input().split()))\n",
    "A = []\n",
    "B = []\n",
    "for _ in range(n):\n",
    "    A.append(list(map(int, input().split())))\n",
    "for _ in range(n):\n",
    "    B.append(list(map(int, input().split())))\n",
    "Arrayed = numpy.array(A)\n",
    "Brrayed = numpy.array(B)\n",
    "print(numpy.add(Arrayed, Brrayed))\n",
    "print(numpy.subtract(Arrayed, Brrayed))\n",
    "print(numpy.multiply(Arrayed, Brrayed))\n",
    "print(numpy.floor_divide(Arrayed, Brrayed))\n",
    "print(numpy.mod(Arrayed, Brrayed))\n",
    "print(numpy.power(Arrayed, Brrayed))"
   ]
  },
  {
   "cell_type": "markdown",
   "id": "05187c4e-f4a5-453a-99c1-b16bb1cd4c06",
   "metadata": {},
   "source": [
    "# Floor, Ceil and Rint"
   ]
  },
  {
   "cell_type": "code",
   "execution_count": null,
   "id": "0560c2fc-b873-47f9-b319-dc223cdb5666",
   "metadata": {},
   "outputs": [],
   "source": [
    "import numpy\n",
    "numpy.set_printoptions(legacy='1.13')\n",
    "array = numpy.array(list(map(float, input().rstrip(\" \").split())))\n",
    "print(numpy.floor(array))\n",
    "print(numpy.ceil(array))\n",
    "print(numpy.rint(array))"
   ]
  },
  {
   "cell_type": "markdown",
   "id": "9a663f33-7408-485b-8367-2bf616008c3a",
   "metadata": {},
   "source": [
    "# Sum and Prod"
   ]
  },
  {
   "cell_type": "code",
   "execution_count": null,
   "id": "5e6574be-ed88-4637-9efb-c7074ef0c6df",
   "metadata": {},
   "outputs": [],
   "source": [
    "import numpy\n",
    "n, m = list(map(int, input().split()))\n",
    "ar = []\n",
    "for _ in range(n):\n",
    "    ar.append(list(map(int, input().split())))\n",
    "arr = numpy.array(ar)\n",
    "print(numpy.product(numpy.sum(arr, axis = 0)))"
   ]
  },
  {
   "cell_type": "markdown",
   "id": "30a984a6-a53a-485c-b316-ce6691958f6f",
   "metadata": {},
   "source": [
    "# Min and max"
   ]
  },
  {
   "cell_type": "code",
   "execution_count": null,
   "id": "4e6552a3-4df5-4554-9eed-fe05d86c8ebd",
   "metadata": {},
   "outputs": [],
   "source": [
    "import numpy\n",
    "n, m = list(map(int, input().split()))\n",
    "arr = []\n",
    "for _ in range(n):\n",
    "    arr.append(list(map(int, input().split())))\n",
    "arrayed = numpy.array(arr)\n",
    "print(numpy.max(numpy.min(arrayed, axis = 1)))"
   ]
  },
  {
   "cell_type": "markdown",
   "id": "b9bfff9b-485a-4b64-acff-759f1a1c0e8a",
   "metadata": {},
   "source": [
    "# Mean, Var, and Std"
   ]
  },
  {
   "cell_type": "code",
   "execution_count": null,
   "id": "5b320ec1-1565-4747-bb47-555921687f79",
   "metadata": {},
   "outputs": [],
   "source": [
    "import numpy\n",
    "n, m = list(map(int, input().split()))\n",
    "arr = []\n",
    "\n",
    "for _ in range(n):\n",
    "    arr.append(list(map(int, input().split())))\n",
    "\n",
    "arrayed = numpy.array(arr)\n",
    "print(numpy.mean(arrayed, axis = 1))\n",
    "print(numpy.var(arrayed, axis = 0))\n",
    "if len(str(numpy.std(arrayed))) > 12:\n",
    "    print(\"%.11f\" % numpy.std(arrayed))\n",
    "else:\n",
    "    print(numpy.std(arrayed))"
   ]
  },
  {
   "cell_type": "markdown",
   "id": "98c809fb-2451-465c-bb35-d689aea2af58",
   "metadata": {},
   "source": [
    "# Dot and cross"
   ]
  },
  {
   "cell_type": "code",
   "execution_count": null,
   "id": "a7ee1d5d-a2ac-4a34-a025-2a2e133d4561",
   "metadata": {},
   "outputs": [],
   "source": [
    "import numpy\n",
    "n = int(input())\n",
    "A = []\n",
    "B = []\n",
    "for _ in range(n):\n",
    "    A.append(list(map(int, input().split())))\n",
    "for _ in range(n):\n",
    "    B.append(list(map(int, input().split())))\n",
    "    \n",
    "array1 = numpy.array(A)\n",
    "array2 = numpy.array(B)\n",
    "print(numpy.dot(array1, array2))"
   ]
  },
  {
   "cell_type": "markdown",
   "id": "44020dc7-b6d2-47fe-b141-907ca9bffa0e",
   "metadata": {},
   "source": [
    "# Inner and Outer"
   ]
  },
  {
   "cell_type": "code",
   "execution_count": 1,
   "id": "3f86e1b4-56d3-4281-ba09-28ad14fb1761",
   "metadata": {},
   "outputs": [
    {
     "name": "stdin",
     "output_type": "stream",
     "text": [
      " 1 2\n",
      " 3 4\n"
     ]
    },
    {
     "name": "stdout",
     "output_type": "stream",
     "text": [
      "11\n",
      "[[3 4]\n",
      " [6 8]]\n"
     ]
    }
   ],
   "source": [
    "import numpy\n",
    "A = numpy.array(list(map(int, input().split())))\n",
    "B = numpy.array(list(map(int, input().split())))\n",
    "\n",
    "print(numpy.inner(A,B))\n",
    "print(numpy.outer(A,B))"
   ]
  },
  {
   "cell_type": "markdown",
   "id": "99d35961-87fc-427b-aa55-14e36b02f92e",
   "metadata": {},
   "source": [
    "# Polynomials"
   ]
  },
  {
   "cell_type": "code",
   "execution_count": null,
   "id": "b2fc60bb-9978-41e5-8715-7d35506293f6",
   "metadata": {},
   "outputs": [],
   "source": [
    "import numpy\n",
    "coefficents = list(map(float, input().split()))\n",
    "value_x = float(input())\n",
    "print(numpy.polyval(coefficents, value_x))"
   ]
  },
  {
   "cell_type": "markdown",
   "id": "5f796cb4-22d8-4289-b3fb-ee37f3624aa9",
   "metadata": {},
   "source": [
    "# Linear Algebra"
   ]
  },
  {
   "cell_type": "code",
   "execution_count": null,
   "id": "b98f0a18-099a-4027-a17e-481c473dc44f",
   "metadata": {},
   "outputs": [],
   "source": [
    "import numpy\n",
    "n = int(input())\n",
    "arr = []\n",
    "for _ in range(n):\n",
    "    arr.append(list(map(float, input().split())))\n",
    "determ = numpy.linalg.det(arr)\n",
    "if len(str(determ)) > 10:\n",
    "    print(\"%.2f\" % determ)\n",
    "else:\n",
    "    print(determ)"
   ]
  },
  {
   "cell_type": "markdown",
   "id": "42c9bf48-a3b0-420d-81f0-7b42d4e4fb38",
   "metadata": {},
   "source": [
    "# Birthday Cake Candles"
   ]
  },
  {
   "cell_type": "code",
   "execution_count": null,
   "id": "9fff221b-c8c7-46dc-9bab-e1ebe4f6e6f6",
   "metadata": {},
   "outputs": [],
   "source": [
    "def birthdayCakeCandles(candles):\n",
    "    counter = 0\n",
    "    tallest = max(candles)\n",
    "    is_tallest = lambda x: x == tallest\n",
    "    return sum(map(is_tallest, candles))\n"
   ]
  },
  {
   "cell_type": "markdown",
   "id": "c3c7a606-2090-4abf-80c0-fa142ee73b37",
   "metadata": {},
   "source": [
    "# Number Line Jumps"
   ]
  },
  {
   "cell_type": "code",
   "execution_count": null,
   "id": "cc7eb97e-9a69-4650-9037-2d0fabea5f19",
   "metadata": {},
   "outputs": [],
   "source": [
    "def kangaroo(x1, v1, x2, v2):\n",
    "    if v1 != v2:\n",
    "        steps = (x1-x2)/(v2-v1)\n",
    "    if (v1 == v2 and x1 != x2) or steps < 0:\n",
    "        return('NO')\n",
    "    elif steps.is_integer():\n",
    "        return('YES')\n",
    "    return('NO')    "
   ]
  },
  {
   "cell_type": "markdown",
   "id": "c783ff09-7e03-4bae-80c8-4b6436cb8be8",
   "metadata": {},
   "source": [
    "# Viral Advertising"
   ]
  },
  {
   "cell_type": "code",
   "execution_count": null,
   "id": "6c64ce24-5fab-46be-a7f4-65b1a8a498f6",
   "metadata": {},
   "outputs": [],
   "source": [
    "def viralAdvertising(n):\n",
    "    recipients = 5\n",
    "    liked = 0\n",
    "    for k in range(n):\n",
    "        liked += math.floor(recipients/2)\n",
    "        recipients = 3*math.floor(recipients/2)\n",
    "    return liked"
   ]
  },
  {
   "cell_type": "markdown",
   "id": "95161146-59fc-467e-bec4-1110dbe18846",
   "metadata": {},
   "source": [
    "# Recursive digit sum"
   ]
  },
  {
   "cell_type": "code",
   "execution_count": null,
   "id": "9b6a306d-5bf6-4a87-866c-0e17836ec909",
   "metadata": {},
   "outputs": [],
   "source": [
    "def superDigit(n, k):\n",
    "    if int(n) < 10 and k==1:\n",
    "        return int(n)\n",
    "    else:\n",
    "        partial = sum(map(int,n))\n",
    "        return superDigit(str(partial*k),1)"
   ]
  },
  {
   "cell_type": "markdown",
   "id": "e715c663-54e9-474b-9578-c232c369600c",
   "metadata": {},
   "source": [
    "# Insertion Sort Part 1"
   ]
  },
  {
   "cell_type": "code",
   "execution_count": null,
   "id": "c2320ccd-13ae-4c90-a861-da2fa77c2900",
   "metadata": {},
   "outputs": [],
   "source": [
    "def insertionSort1(n, arr):\n",
    "    stored = arr[-1]\n",
    "    for i in range(n-2, -1, -1):\n",
    "        if arr[i] > stored:\n",
    "            arr[i+1] = arr[i]\n",
    "            print(' '.join(map(str, arr)))\n",
    "        else:\n",
    "            arr[i+1] = stored\n",
    "            print(' '.join(map(str, arr)))\n",
    "            return\n",
    "    arr[0] = stored\n",
    "    print(' '.join(map(str, arr)))"
   ]
  },
  {
   "cell_type": "markdown",
   "id": "b28f84c1-4897-4d67-a902-ca477f415a07",
   "metadata": {},
   "source": [
    "# Insertion Sort Part 2"
   ]
  },
  {
   "cell_type": "code",
   "execution_count": null,
   "id": "60957add-f2df-437f-986e-f36b9facb0a3",
   "metadata": {},
   "outputs": [],
   "source": [
    "def insertionSort2(n, arr):\n",
    "    for i in range(1, n):\n",
    "        temp = arr[i]\n",
    "        k = i\n",
    "        while k > 0 and temp < arr[k-1]:\n",
    "            arr[k] = arr[k-1]\n",
    "            k -= 1\n",
    "        arr[k] = temp\n",
    "        print(\" \".join(map(str, arr)))    \n",
    "    "
   ]
  }
 ],
 "metadata": {
  "kernelspec": {
   "display_name": "Python 3",
   "language": "python",
   "name": "python3"
  },
  "language_info": {
   "codemirror_mode": {
    "name": "ipython",
    "version": 3
   },
   "file_extension": ".py",
   "mimetype": "text/x-python",
   "name": "python",
   "nbconvert_exporter": "python",
   "pygments_lexer": "ipython3",
   "version": "3.8.8"
  }
 },
 "nbformat": 4,
 "nbformat_minor": 5
}
