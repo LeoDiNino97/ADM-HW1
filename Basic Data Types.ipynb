{
 "cells": [
  {
   "cell_type": "markdown",
   "id": "63516a90",
   "metadata": {},
   "source": [
    "# List Comprehensions"
   ]
  },
  {
   "cell_type": "code",
   "execution_count": null,
   "id": "1d17dd8f",
   "metadata": {},
   "outputs": [],
   "source": [
    "if __name__ == '__main__':\n",
    "    x = int(input())\n",
    "    y = int(input())\n",
    "    z = int(input())\n",
    "    n = int(input())\n",
    "    \n",
    "L = []\n",
    "for i in range(x+1):\n",
    "    for j in range(y+1):\n",
    "        for k in range(z+1):\n",
    "            if i+j+k != n:\n",
    "                L.append([i,j,k])\n",
    "                \n",
    "print(L)"
   ]
  },
  {
   "cell_type": "markdown",
   "id": "0fdea514",
   "metadata": {},
   "source": [
    "# Find the Runner-Up Score!"
   ]
  },
  {
   "cell_type": "code",
   "execution_count": null,
   "id": "186d2b81",
   "metadata": {},
   "outputs": [],
   "source": [
    "if __name__ == '__main__':\n",
    "    n = int(input())\n",
    "    arr = list(map(int, input().split()))\n",
    "\n",
    "first = max(arr)\n",
    "runner_ups = []\n",
    "for i in arr:\n",
    "    if i != first:\n",
    "        runner_ups.append(i)\n",
    "print(max(runner_ups))                  #The second is just the first of the lasts"
   ]
  },
  {
   "cell_type": "markdown",
   "id": "9b7d2286",
   "metadata": {},
   "source": [
    "# Nested Lists"
   ]
  },
  {
   "cell_type": "code",
   "execution_count": null,
   "id": "e40cd2c0",
   "metadata": {},
   "outputs": [],
   "source": [
    "L = []\n",
    "\n",
    "if __name__ == '__main__':\n",
    "    for _ in range(int(input())):\n",
    "        L.append([input(),float(input())])\n",
    "        \n",
    "score_list = []       \n",
    "for student in L:\n",
    "    score_list.append(student[1]) \n",
    "    \n",
    "def second_lowest_grade(scores: list):\n",
    "    lowest_grade = min(scores)\n",
    "    lowest_scores = []\n",
    "    for score in scores:\n",
    "        if score != lowest_grade:\n",
    "            lowest_scores.append(score)\n",
    "    return min(lowest_scores)\n",
    "\n",
    "    \n",
    "lowest_students = []\n",
    "for student in L:\n",
    "    if student[1] == second_lowest_grade(score_list):\n",
    "        lowest_students.append(student[0])\n",
    "print('\\n'.join(sorted(lowest_students)))"
   ]
  },
  {
   "cell_type": "markdown",
   "id": "d027171b",
   "metadata": {},
   "source": [
    "# Finding the percentage"
   ]
  },
  {
   "cell_type": "code",
   "execution_count": null,
   "id": "7510f618",
   "metadata": {},
   "outputs": [],
   "source": [
    "if __name__ == '__main__':\n",
    "    n = int(input())\n",
    "    student_marks = {}\n",
    "    for _ in range(n):\n",
    "        name, *line = input().split()\n",
    "        scores = list(map(float, line))\n",
    "        student_marks[name] = scores\n",
    "    query_name = input()\n",
    "    \n",
    "print(format(sum(student_marks[query_name])/3, '.2f'))"
   ]
  },
  {
   "cell_type": "markdown",
   "id": "12f19c69",
   "metadata": {},
   "source": [
    "# Lists"
   ]
  },
  {
   "cell_type": "code",
   "execution_count": null,
   "id": "5af0989b",
   "metadata": {},
   "outputs": [],
   "source": [
    "if __name__ == '__main__':\n",
    "    N = int(input())\n",
    "\n",
    "L = []\n",
    "for n in range(0, N):\n",
    "    command = input().split()\n",
    "    cmd = command[0]\n",
    "    if cmd == 'insert':\n",
    "        L.insert(int(command[1]), int(command[2]))\n",
    "    elif cmd == 'print':\n",
    "        print(L)\n",
    "    elif cmd == 'remove':\n",
    "        L.remove(int(command[1]))    \n",
    "    elif cmd == 'append':\n",
    "        L.append(int(command[1]))\n",
    "    elif cmd == 'sort':\n",
    "        L.sort()\n",
    "    elif cmd == 'pop':\n",
    "        L.pop()\n",
    "    elif cmd == 'reverse':\n",
    "        L.reverse()\n"
   ]
  },
  {
   "cell_type": "markdown",
   "id": "94552df5",
   "metadata": {},
   "source": [
    "# Tuples"
   ]
  },
  {
   "cell_type": "code",
   "execution_count": null,
   "id": "768a6d04",
   "metadata": {},
   "outputs": [],
   "source": [
    "if __name__ == '__main__':\n",
    "    n = int(input())\n",
    "    integer_list = map(int, input().split())\n",
    "    print(hash(tuple(integer_list)))"
   ]
  }
 ],
 "metadata": {
  "kernelspec": {
   "display_name": "Python 3",
   "language": "python",
   "name": "python3"
  },
  "language_info": {
   "codemirror_mode": {
    "name": "ipython",
    "version": 3
   },
   "file_extension": ".py",
   "mimetype": "text/x-python",
   "name": "python",
   "nbconvert_exporter": "python",
   "pygments_lexer": "ipython3",
   "version": "3.8.8"
  }
 },
 "nbformat": 4,
 "nbformat_minor": 5
}
