{
 "cells": [
  {
   "cell_type": "markdown",
   "id": "0b3449f2-3f5a-4930-ad86-14707e72b6e7",
   "metadata": {},
   "source": [
    "# Detect Floating Point Number"
   ]
  },
  {
   "cell_type": "code",
   "execution_count": null,
   "id": "d51e0702-6e51-4ba0-aaa1-41d5c3e6bd2c",
   "metadata": {},
   "outputs": [],
   "source": [
    "import re\n",
    "float_regex = \"^[+-]?\\d*\\.\\d+\"\n",
    "n = int(input())\n",
    "for _ in range(n):\n",
    "    strinput = str(input())\n",
    "    matches = re.findall(float_regex, strinput)\n",
    "    if len(matches) == 0:\n",
    "        print('False')\n",
    "    else:\n",
    "        print(matches[0] == strinput)"
   ]
  },
  {
   "cell_type": "markdown",
   "id": "4cc8f8b8-5ddb-4cfc-8e14-333bc71f24c2",
   "metadata": {},
   "source": [
    "# Re.split()"
   ]
  },
  {
   "cell_type": "code",
   "execution_count": null,
   "id": "8d2ee9fb-e791-4219-84f4-a47da5b5b942",
   "metadata": {},
   "outputs": [],
   "source": [
    "regex_pattern = r\"[.,]\"\t# Do not delete 'r'.\n",
    "\n",
    "import re\n",
    "print(\"\\n\".join(re.split(regex_pattern, input())))"
   ]
  },
  {
   "cell_type": "markdown",
   "id": "18d417b4-3353-400e-8e62-6b38f10a4c86",
   "metadata": {},
   "source": [
    "# Group(), Groups() & Groupdict()"
   ]
  },
  {
   "cell_type": "code",
   "execution_count": null,
   "id": "5ee819fd-91a4-4c88-a5f0-56a26f901dce",
   "metadata": {},
   "outputs": [],
   "source": [
    "import re\n",
    "strinput = str(input())\n",
    "reg_occ = r\"([a-zA-Z0-9])\\1+\"   #ACHTUNG underscore in \\w, not in [a-zA-Z0-9]\n",
    "matches = re.search(reg_occ, strinput)        \n",
    "if matches:\n",
    "    print(matches.group(1))\n",
    "else:\n",
    "    print('-1')"
   ]
  },
  {
   "cell_type": "markdown",
   "id": "6304c9cf-09d6-4423-bb7a-4b513f9999ba",
   "metadata": {},
   "source": [
    "# Re.findall() & Re.finditer()"
   ]
  },
  {
   "cell_type": "code",
   "execution_count": null,
   "id": "5b14a142-50d4-416e-aeed-1fc3491efe9c",
   "metadata": {},
   "outputs": [],
   "source": [
    "import re\n",
    "strinput = str(input())\n",
    "reg_vowels = r'(?<=[qwrtypsdfghjklzxcvbnm])([aeiou]{2,})(?=[qwrtypsdfghjklzxcvbnm])'\n",
    "matches = re.findall(reg_vowels, strinput, re.IGNORECASE)\n",
    "\n",
    "if matches:\n",
    "    for string in matches:\n",
    "        print(string)\n",
    "else:\n",
    "    print('-1')"
   ]
  },
  {
   "cell_type": "markdown",
   "id": "bf71f260-5262-4bef-ae43-647cf7f7b542",
   "metadata": {},
   "source": [
    "# Re.start() & Re.end()"
   ]
  },
  {
   "cell_type": "code",
   "execution_count": null,
   "id": "e867972d-6d82-4312-9efa-29bb572bbb21",
   "metadata": {},
   "outputs": [],
   "source": [
    "import re\n",
    "strinput = str(input())\n",
    "stregex = re.compile(str(input()))\n",
    "m = stregex.search(strinput)\n",
    "if not m:\n",
    "    print('(-1, -1)')\n",
    "while m:\n",
    "    print((m.start(), m.end()-1))\n",
    "    m = stregex.search(strinput, m.start()+1)"
   ]
  },
  {
   "cell_type": "markdown",
   "id": "52221e80-d91d-4a0e-beef-1e142114f1ca",
   "metadata": {},
   "source": [
    "# Regex Substitution"
   ]
  },
  {
   "cell_type": "code",
   "execution_count": null,
   "id": "548ef349-db52-44b9-8760-a5c684a65ec8",
   "metadata": {},
   "outputs": [],
   "source": [
    "import re\n",
    "def modify(match):\n",
    "    if match.group(1) == '&&':\n",
    "        return 'and'\n",
    "    else:\n",
    "        return 'or'\n",
    "n = int(input())\n",
    "for i in range(n):\n",
    "    print(re.sub(r\"(?<= )(\\|\\||&&)(?= )\", modify, input()))"
   ]
  },
  {
   "cell_type": "markdown",
   "id": "e245acf2-3e76-4dfc-acf9-7a08dcb03012",
   "metadata": {},
   "source": [
    "# Validating roman numbers"
   ]
  },
  {
   "cell_type": "code",
   "execution_count": null,
   "id": "00b95ac2-9705-4ec7-b75f-e3c9d4b1744c",
   "metadata": {},
   "outputs": [],
   "source": [
    "digi = '(V?[I]{0,3}|I[VX])'\n",
    "tens = '(L?[X]{0,3}|X[LC])'\n",
    "hund = '(D?[C]{0,3}|C[DM])'\n",
    "thou = 'M{0,3}'\n",
    "regex_pattern = thou + hund + tens + digi + '$'"
   ]
  },
  {
   "cell_type": "markdown",
   "id": "1c20db01-e491-4c00-bee7-1f8141da6c75",
   "metadata": {},
   "source": [
    "# Validating phone numbers"
   ]
  },
  {
   "cell_type": "code",
   "execution_count": null,
   "id": "6eaa6f00-35fd-4b04-a7cd-dc3df251cf25",
   "metadata": {},
   "outputs": [],
   "source": [
    "for _ in range(int(input())):\n",
    "    if re.match(r'[789]\\d{9}$',input()):   \n",
    "        print('YES')  \n",
    "    else:  \n",
    "        print('NO')"
   ]
  },
  {
   "cell_type": "markdown",
   "id": "8d7172dc-b791-4c08-8848-fe70faca59b1",
   "metadata": {},
   "source": [
    "# Validating and Parsing Email Address"
   ]
  },
  {
   "cell_type": "code",
   "execution_count": null,
   "id": "86a0c6f8-0da4-4a10-8505-c66dc2950a29",
   "metadata": {},
   "outputs": [],
   "source": [
    "import re\n",
    "import email.utils\n",
    "\n",
    "for _ in range(int(input())):\n",
    "    name, mail = input().split()\n",
    "    if re.match(r'<[a-zA-Z][\\w\\.-]*@[a-zA-Z]*\\.[a-zA-Z]{1,3}>', mail):\n",
    "        print(name, mail)"
   ]
  },
  {
   "cell_type": "markdown",
   "id": "fb979f7b-6cf5-4193-8c1c-08a6eb34ecba",
   "metadata": {},
   "source": [
    "# Hex Color Code"
   ]
  },
  {
   "cell_type": "code",
   "execution_count": null,
   "id": "0ea0c657-8f4c-48d8-83a0-2735917a8d9d",
   "metadata": {},
   "outputs": [],
   "source": [
    "import re\n",
    "for _ in range(int(input())):\n",
    "    strinput = input()\n",
    "    splitted = strinput.split()\n",
    "    if len(splitted)>1  and  '{' not in splitted:\n",
    "        splitted = re.findall(r'#[a-fA-F0-9]{3,6}',strinput)\n",
    "        [print(i) for  i in splitted]"
   ]
  },
  {
   "cell_type": "markdown",
   "id": "a5afa259-465d-497b-9985-7b841a1af47f",
   "metadata": {},
   "source": [
    "# HTML Parser - Part 1"
   ]
  },
  {
   "cell_type": "code",
   "execution_count": null,
   "id": "33255c66-9293-40e0-a798-7b56b85e5315",
   "metadata": {},
   "outputs": [],
   "source": [
    "from html.parser import HTMLParser\n",
    "class MyHTMLParser(HTMLParser):\n",
    "    def handle_starttag(self, tag, attrs):        \n",
    "        print ('Start :',tag)\n",
    "        for ele in attrs:\n",
    "            print ('->',ele[0],'>',ele[1])\n",
    "            \n",
    "    def handle_endtag(self, tag):\n",
    "        print ('End   :',tag)\n",
    "        \n",
    "    def handle_startendtag(self, tag, attrs):\n",
    "        print ('Empty :',tag)\n",
    "        for ele in attrs:\n",
    "            print ('->',ele[0],'>',ele[1])\n",
    "            \n",
    "MyParser = MyHTMLParser()\n",
    "MyParser.feed(''.join([input().strip() for _ in range(int(input()))]))"
   ]
  },
  {
   "cell_type": "markdown",
   "id": "838c72bc-e473-46e7-bca9-109cbee99b38",
   "metadata": {},
   "source": [
    "# HTML Parse - Part 2"
   ]
  },
  {
   "cell_type": "code",
   "execution_count": null,
   "id": "4e772a20-a324-48cd-a95b-9a4cce1edef8",
   "metadata": {},
   "outputs": [],
   "source": [
    "from html.parser import HTMLParser\n",
    "\n",
    "class MyHTMLParser(HTMLParser):\n",
    "    def handle_comment(self, data):\n",
    "        if (len(data.split('\\n')) != 1):\n",
    "            print(\">>> Multi-line Comment\")\n",
    "        else:\n",
    "            print(\">>> Single-line Comment\")\n",
    "        print(data.replace(\"\\r\", \"\\n\"))\n",
    "    def handle_data(self, data):\n",
    "        if data.strip():\n",
    "            print(\">>> Data\")\n",
    "            print(data)\n",
    "html = \"\"       \n",
    "for i in range(int(input())):\n",
    "    html += input().rstrip()\n",
    "    html += '\\n'\n",
    "    \n",
    "parser = MyHTMLParser()\n",
    "parser.feed(html)\n",
    "parser.close()"
   ]
  },
  {
   "cell_type": "markdown",
   "id": "7f499313-ae48-4955-ae4b-13f7fa85631a",
   "metadata": {},
   "source": [
    "# Detect HTML Tags, Attributes and Attribute Values"
   ]
  },
  {
   "cell_type": "code",
   "execution_count": null,
   "id": "b3b075db-6e65-4998-84ad-e05c57027911",
   "metadata": {},
   "outputs": [],
   "source": [
    "from html.parser import HTMLParser\n",
    "class MyHTMLParser(HTMLParser):\n",
    "    def handle_starttag(self, tag, attrs):\n",
    "        print(tag)\n",
    "        [print('-> {} > {}'.format(*attr)) for attr in attrs]\n",
    "        \n",
    "html = '\\n'.join([input() for _ in range(int(input()))])\n",
    "parser = MyHTMLParser()\n",
    "parser.feed(html)\n",
    "parser.close()"
   ]
  },
  {
   "cell_type": "markdown",
   "id": "d9c61c8d-8f30-4f8a-9119-6a671c9d8e4a",
   "metadata": {},
   "source": [
    "# Validating UID"
   ]
  },
  {
   "cell_type": "code",
   "execution_count": null,
   "id": "f7820dc2-2bfe-4036-9acd-4329baaae12b",
   "metadata": {},
   "outputs": [],
   "source": [
    "import re\n",
    "for _ in range(int(input())):\n",
    "    strinput = input()\n",
    "    usable = \"\".join(sorted([strinput[i] for i in range(len(strinput))]))\n",
    "    try:\n",
    "        assert re.search(r'[A-Z]{2}', usable)\n",
    "        assert re.search(r'\\d\\d\\d', usable)\n",
    "        assert not re.search(r'[^a-zA-Z0-9]', usable)\n",
    "        assert not re.search(r'(.)\\1', usable)\n",
    "        assert len(usable) == 10\n",
    "    except:\n",
    "        print('Invalid')\n",
    "    else:\n",
    "        print('Valid')"
   ]
  },
  {
   "cell_type": "markdown",
   "id": "dbaa5cdb-00cd-4ff1-be9b-e9d3886f0434",
   "metadata": {},
   "source": [
    "# Validating Credit Card Number"
   ]
  },
  {
   "cell_type": "code",
   "execution_count": null,
   "id": "a51deb3f-b2e6-4670-8ed7-f80f413ada6d",
   "metadata": {},
   "outputs": [],
   "source": [
    "import re\n",
    "test = re.compile(\n",
    "    r\"^\"\n",
    "    r\"(?!.*(\\d)(-?\\1){3})\"\n",
    "    r\"[456]\"\n",
    "    r\"\\d{3}\"\n",
    "    r\"(?:-?\\d{4}){3}\"\n",
    "    r\"$\")\n",
    "for _ in range(int(input()):\n",
    "    if test.search(input().strip()):\n",
    "        print('Valid')\n",
    "    else:\n",
    "        print('Invalid')\n"
   ]
  },
  {
   "cell_type": "markdown",
   "id": "dfc5b6f9-ca8e-4236-a57a-200e56597bde",
   "metadata": {},
   "source": [
    "# Validating Postal Code"
   ]
  },
  {
   "cell_type": "code",
   "execution_count": null,
   "id": "3b988b6b-5d96-442d-8a19-880b6f4af272",
   "metadata": {},
   "outputs": [],
   "source": [
    "regex_integer_in_range = r\"^[1-9][\\d]{5}$\"\t# Do not delete 'r'.\n",
    "regex_alternating_repetitive_digit_pair = r\"(\\d)(?=\\d\\1)\"\t# Do not delete 'r'.\n",
    "\n",
    "import re\n",
    "P = input()\n",
    "\n",
    "print (bool(re.match(regex_integer_in_range, P)) \n",
    "and len(re.findall(regex_alternating_repetitive_digit_pair, P)) < 2)"
   ]
  },
  {
   "cell_type": "markdown",
   "id": "92645cff-b495-4397-a0de-8d70459218f5",
   "metadata": {},
   "source": [
    "# Matrix Script"
   ]
  },
  {
   "cell_type": "code",
   "execution_count": null,
   "id": "5a0c530d-f209-49e5-9b28-7be6929a6ac8",
   "metadata": {},
   "outputs": [],
   "source": [
    "n, m = list(map(int, input().split()))\n",
    "\n",
    "matrix = []\n",
    "for _ in range(n):\n",
    "    matrix.append(list(input()))\n",
    "\n",
    "matrix = list(zip(*matrix))\n",
    "\n",
    "to_be_sub = \"\"\n",
    "for tup in matrix:\n",
    "    for letter in tup:\n",
    "        to_be_sub += letter\n",
    "\n",
    "print(re.sub(r'(?<=\\w)([^\\w\\d]+)(?=\\w)', ' ', to_be_sub))"
   ]
  }
 ],
 "metadata": {
  "kernelspec": {
   "display_name": "Python 3",
   "language": "python",
   "name": "python3"
  },
  "language_info": {
   "codemirror_mode": {
    "name": "ipython",
    "version": 3
   },
   "file_extension": ".py",
   "mimetype": "text/x-python",
   "name": "python",
   "nbconvert_exporter": "python",
   "pygments_lexer": "ipython3",
   "version": "3.8.8"
  }
 },
 "nbformat": 4,
 "nbformat_minor": 5
}
