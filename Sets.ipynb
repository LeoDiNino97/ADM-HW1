{
 "cells": [
  {
   "cell_type": "markdown",
   "id": "5030b5d0",
   "metadata": {},
   "source": [
    "# Introduction to sets"
   ]
  },
  {
   "cell_type": "code",
   "execution_count": null,
   "id": "9346fdba",
   "metadata": {},
   "outputs": [],
   "source": [
    "def average(array):\n",
    "    return sum(set(array))/len(set(array))"
   ]
  },
  {
   "cell_type": "markdown",
   "id": "ee1bfe7f-6471-41cd-aab8-6db5af04a5c4",
   "metadata": {},
   "source": [
    "# Symmetric Difference"
   ]
  },
  {
   "cell_type": "code",
   "execution_count": null,
   "id": "ebf6380c-f058-48fd-b8ca-8cda1fa305ad",
   "metadata": {},
   "outputs": [],
   "source": [
    "# Enter your code here. Read input from STDIN. Print output to STDOUT\n",
    "n1 = int(input())\n",
    "set1 = set(map(int, input().split()))\n",
    "n2 = int(input())\n",
    "set2 = set(map(int, input().split()))\n",
    "\n",
    "for element in sorted(set1.union(set2)):\n",
    "    if element not in (set1.intersection(set2)):\n",
    "        print(element)"
   ]
  },
  {
   "cell_type": "markdown",
   "id": "79478a9f-e629-46fd-b7c0-6992c714df18",
   "metadata": {},
   "source": [
    "# No idea!"
   ]
  },
  {
   "cell_type": "code",
   "execution_count": null,
   "id": "55e6ff17-fbdb-420d-b91b-f8d81d800f66",
   "metadata": {},
   "outputs": [],
   "source": [
    "# Enter your code here. Read input from STDIN. Print output to STDOUT\n",
    "[n, m] = input().split()\n",
    "arr = map(int, input().split())\n",
    "set1 = set(map(int, input().split()))\n",
    "set2 = set(map(int, input().split()))\n",
    "happiness = 0\n",
    "for element in arr:\n",
    "    if element in set1:\n",
    "        happiness += 1\n",
    "    if element in set2:\n",
    "        happiness += -1\n",
    "print(happiness)"
   ]
  },
  {
   "cell_type": "markdown",
   "id": "cfc1745b-4a4d-4309-a1f1-977d18654071",
   "metadata": {},
   "source": [
    "# Set.add()"
   ]
  },
  {
   "cell_type": "code",
   "execution_count": null,
   "id": "7074f82c-aaf7-49f7-8a2c-01d7bfd263a4",
   "metadata": {},
   "outputs": [],
   "source": [
    "# Enter your code here. Read input from STDIN. Print output to STDOUT\n",
    "stamps = set()\n",
    "n = int(input())\n",
    "for _ in range(n):\n",
    "    stamps.add(input())\n",
    "print(len(stamps))"
   ]
  },
  {
   "cell_type": "markdown",
   "id": "9efdd2c8-e2db-4a1b-b51f-650e1724d631",
   "metadata": {},
   "source": [
    "# Set .discard(), .remove() & .pop()"
   ]
  },
  {
   "cell_type": "code",
   "execution_count": null,
   "id": "2a1c2f31-4842-4a88-a862-2c054726c6a2",
   "metadata": {},
   "outputs": [],
   "source": [
    "# Enter your code here. Read input from STDIN. Print output to STDOUT\n",
    "card = int(input())\n",
    "my_set = set(map(int, input().split()))\n",
    "numb_commands = int(input())\n",
    "\n",
    "for _ in range(numb_commands):\n",
    "    command = input().split()\n",
    "    comm = command[0]\n",
    "    if len(command) == 2:\n",
    "        elem = int(command[1])\n",
    "    if comm == \"pop\":\n",
    "        try:\n",
    "            my_set.pop()\n",
    "        except KeyError:\n",
    "            pass\n",
    "    elif comm == \"remove\":\n",
    "        try:\n",
    "            my_set.remove(elem)\n",
    "        except KeyError: \n",
    "            pass\n",
    "    elif comm == \"discard\":\n",
    "        my_set.discard(elem)\n",
    "    else:\n",
    "        continue\n",
    "        \n",
    "print(sum(my_set))"
   ]
  },
  {
   "cell_type": "markdown",
   "id": "6a5d684e-76a4-4659-b582-5a04cacd7c5c",
   "metadata": {},
   "source": [
    "# Set .union() Operation"
   ]
  },
  {
   "cell_type": "code",
   "execution_count": null,
   "id": "8274e12d-7fcf-4e83-b600-a92af8c28162",
   "metadata": {},
   "outputs": [],
   "source": [
    "# Enter your code here. Read input from STDIN. Print output to STDOUT\n",
    "n = int(input())\n",
    "english_enrolled = set(map(int, input().split()))\n",
    "m = int(input())\n",
    "french_enrolled = set(map(int, input().split()))\n",
    "print(len(english_enrolled.union(french_enrolled)))"
   ]
  },
  {
   "cell_type": "markdown",
   "id": "7e275bbc-e709-45a6-bd93-781ad664ee73",
   "metadata": {},
   "source": [
    "# Set .intersection() Operation"
   ]
  },
  {
   "cell_type": "code",
   "execution_count": null,
   "id": "36814762-6ca7-43ba-8352-15baa71e6d59",
   "metadata": {},
   "outputs": [],
   "source": [
    "# Enter your code here. Read input from STDIN. Print output to STDOUT\n",
    "n = int(input())\n",
    "english_enrolled = set(map(int, input().split()))\n",
    "m = int(input())\n",
    "french_enrolled = set(map(int, input().split()))\n",
    "print(len(english_enrolled.intersection(french_enrolled)))"
   ]
  },
  {
   "cell_type": "markdown",
   "id": "afbdf381-cc71-4b5e-8e7a-8be71ce40372",
   "metadata": {},
   "source": [
    "# Set .difference() Operation"
   ]
  },
  {
   "cell_type": "code",
   "execution_count": null,
   "id": "fea2c2cd-d8f9-4316-afeb-b3bf719d93fe",
   "metadata": {},
   "outputs": [],
   "source": [
    "# Enter your code here. Read input from STDIN. Print output to STDOUT\n",
    "n = int(input())\n",
    "english_enrolled = set(map(int, input().split()))\n",
    "m = int(input())\n",
    "french_enrolled = set(map(int, input().split()))\n",
    "print(len(english_enrolled.difference(french_enrolled)))"
   ]
  },
  {
   "cell_type": "markdown",
   "id": "1a518283-e287-4821-b795-67b1fe53576a",
   "metadata": {},
   "source": [
    "# Set .symmetric_difference() Operation"
   ]
  },
  {
   "cell_type": "code",
   "execution_count": null,
   "id": "0ca60193-c7de-45a5-8e73-d2af62d2000a",
   "metadata": {},
   "outputs": [],
   "source": [
    "# Enter your code here. Read input from STDIN. Print output to STDOUT\n",
    "n = int(input())\n",
    "english_enrolled = set(map(int, input().split()))\n",
    "m = int(input())\n",
    "french_enrolled = set(map(int, input().split()))\n",
    "print(len(english_enrolled.symmetric_difference(french_enrolled)))"
   ]
  },
  {
   "cell_type": "markdown",
   "id": "ac0a7861-779a-4fd7-b3ce-5682047d0ce8",
   "metadata": {},
   "source": [
    "# Set Mutations"
   ]
  },
  {
   "cell_type": "code",
   "execution_count": null,
   "id": "eb47b3e2-e06d-4703-b2b9-77a3142aa6ea",
   "metadata": {},
   "outputs": [],
   "source": [
    "# Enter your code here. Read input from STDIN. Print output to STDOUT\n",
    "n = int(input())\n",
    "my_set = set(map(int, input().split()))\n",
    "num_other_sets = int(input())\n",
    "for _ in range(num_other_sets):\n",
    "    command = input().split()[0]\n",
    "    new_set = set(map(int, input().split()))\n",
    "    if command == \"intersection_update\":\n",
    "        my_set.intersection_update(new_set)\n",
    "    elif command == \"update\":\n",
    "        my_set.update(new_set)\n",
    "    elif command == \"symmetric_difference_update\":\n",
    "        my_set.symmetric_difference_update(new_set)\n",
    "    elif command == \"difference_update\":\n",
    "        my_set.difference_update(new_set)\n",
    "        \n",
    "print(sum(my_set))"
   ]
  },
  {
   "cell_type": "markdown",
   "id": "7f43499b-be66-4507-aa62-59057ae0659e",
   "metadata": {},
   "source": [
    "# The Captain's Room"
   ]
  },
  {
   "cell_type": "code",
   "execution_count": null,
   "id": "671f10b4-4518-4267-9b3f-59ee5c95aada",
   "metadata": {},
   "outputs": [],
   "source": [
    "# Enter your code here. Read input from STDIN. Print output to STDOUT\n",
    "n = int(input())\n",
    "room_list = list(map(int, input().split()))\n",
    "room_set = set(room_list)\n",
    "\n",
    "for room in room_set:\n",
    "    room_list.remove(room)\n",
    "    \n",
    "captain_room = room_set.difference(set(room_list)).pop()\n",
    "print(captain_room)"
   ]
  },
  {
   "cell_type": "markdown",
   "id": "40263fa8-9fde-4a7d-a06f-53c48e6ba8b5",
   "metadata": {},
   "source": [
    "# Check Subset"
   ]
  },
  {
   "cell_type": "code",
   "execution_count": null,
   "id": "d0d4cf8b-e9b1-42d0-b98b-3bc2c8ca3695",
   "metadata": {},
   "outputs": [],
   "source": [
    "# Enter your code here. Read input from STDIN. Print output to STDOUT\n",
    "number_of_tests = int(input())\n",
    "for _ in range(number_of_tests):\n",
    "    cardA = int(input())\n",
    "    A = set(map(int, input().split()))\n",
    "    cardB = int(input())\n",
    "    B = set(map(int, input().split()))\n",
    "    print(A.issubset(B))"
   ]
  },
  {
   "cell_type": "markdown",
   "id": "eb7030b7-bbae-4e24-9d50-be76021d5075",
   "metadata": {},
   "source": [
    "# Check Strict Superset"
   ]
  },
  {
   "cell_type": "code",
   "execution_count": null,
   "id": "58f571b1-df62-4d20-adc4-27e0f7dbd6e1",
   "metadata": {},
   "outputs": [],
   "source": [
    "# Enter your code here. Read input from STDIN. Print output to STDOUT\n",
    "set_A = set(map(int, input().split()))\n",
    "n = int(input())\n",
    "boolean = True \n",
    "for _ in range(n):\n",
    "    subset = set(map(int, input().split()))\n",
    "    if set_A.issuperset(subset) == False or set_A.intersection(subset) == set_A:\n",
    "        boolean = False\n",
    "print(boolean)"
   ]
  }
 ],
 "metadata": {
  "kernelspec": {
   "display_name": "Python 3",
   "language": "python",
   "name": "python3"
  },
  "language_info": {
   "codemirror_mode": {
    "name": "ipython",
    "version": 3
   },
   "file_extension": ".py",
   "mimetype": "text/x-python",
   "name": "python",
   "nbconvert_exporter": "python",
   "pygments_lexer": "ipython3",
   "version": "3.8.8"
  }
 },
 "nbformat": 4,
 "nbformat_minor": 5
}
