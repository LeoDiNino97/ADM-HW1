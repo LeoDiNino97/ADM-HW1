{
 "cells": [
  {
   "cell_type": "markdown",
   "id": "b48eefab-f047-4b3a-91e0-73930f5804a7",
   "metadata": {},
   "source": [
    "# Arrays"
   ]
  },
  {
   "cell_type": "code",
   "execution_count": null,
   "id": "96dcd053-cc92-4165-96b4-d91d22c099f0",
   "metadata": {},
   "outputs": [],
   "source": [
    "import numpy\n",
    "def arrays(arr):\n",
    "    arr.reverse()\n",
    "    return numpy.array(list(map(float, arr)))   \n",
    "\n",
    "arr = input().strip().split(' ')\n",
    "result = arrays(arr)\n",
    "print(result)"
   ]
  },
  {
   "cell_type": "markdown",
   "id": "4a4093f7-0997-4763-896e-422292da4c49",
   "metadata": {},
   "source": [
    "# Shape and Reshape"
   ]
  },
  {
   "cell_type": "code",
   "execution_count": null,
   "id": "791b9260-a188-4921-a287-58d26cdbba8d",
   "metadata": {},
   "outputs": [],
   "source": [
    "import numpy\n",
    "arr = input().split()\n",
    "arrayed = numpy.array(list(map(int, arr))) \n",
    "#arrayed.shape = (3,3)\n",
    "#print(arrayed)\n",
    "print(numpy.reshape(arrayed, (3,3)))"
   ]
  },
  {
   "cell_type": "markdown",
   "id": "881f866d-9a1e-4db9-8fd6-4c781700e7a9",
   "metadata": {},
   "source": [
    "# Transpose and Flatten"
   ]
  },
  {
   "cell_type": "code",
   "execution_count": null,
   "id": "41bfcf09-3580-4ada-9583-9a78e5c52dc4",
   "metadata": {},
   "outputs": [],
   "source": [
    "import numpy\n",
    "n, m = input().split()\n",
    "arr = []\n",
    "for _ in range(int(n)):\n",
    "    arr.append(list(map(int, input().split())))\n",
    "arrayed = numpy.array(arr)\n",
    "print(arrayed.transpose())\n",
    "print(arrayed.flatten())"
   ]
  },
  {
   "cell_type": "markdown",
   "id": "c6506920-1d9f-4ce7-9623-ae51d725d7c0",
   "metadata": {},
   "source": [
    "# Concatenate"
   ]
  },
  {
   "cell_type": "code",
   "execution_count": null,
   "id": "62f853c3-bba8-4053-bc0a-712ac83eda54",
   "metadata": {},
   "outputs": [],
   "source": [
    "import numpy\n",
    "n, m, p = input().split()\n",
    "arr1 = []\n",
    "arr2 = []\n",
    "for _ in range(int(n)):\n",
    "    arr1.append(list(map(int, input().split())))\n",
    "for _ in range(int(m)):\n",
    "    arr2.append(list(map(int, input().split())))\n",
    "print(numpy.concatenate((numpy.array(arr1), numpy.array(arr2)), axis=0))"
   ]
  },
  {
   "cell_type": "markdown",
   "id": "9a4667f5-da0c-47e7-a5c2-ea6a7b934940",
   "metadata": {},
   "source": [
    "# Zero and ones"
   ]
  },
  {
   "cell_type": "code",
   "execution_count": null,
   "id": "a575153f-0054-457a-bfc2-41bb891b334b",
   "metadata": {},
   "outputs": [],
   "source": [
    "import numpy\n",
    "dimensions = input().split()\n",
    "size = tuple(map(int, dimensions))\n",
    "print(numpy.zeros(size, dtype = numpy.int))\n",
    "print(numpy.ones(size, dtype = numpy.int))"
   ]
  },
  {
   "cell_type": "markdown",
   "id": "0ec5ca03-6a4f-40f6-98e8-74a75ecd6ad0",
   "metadata": {},
   "source": [
    "# Eye and Identity"
   ]
  },
  {
   "cell_type": "code",
   "execution_count": null,
   "id": "baddcf30-df24-4ad7-a014-838961fb9599",
   "metadata": {},
   "outputs": [],
   "source": [
    "import numpy\n",
    "numpy.set_printoptions(legacy='1.13')\n",
    "n, m = list(map(int, input().split()))\n",
    "if n == m:\n",
    "    print(numpy.identity(n))\n",
    "else:\n",
    "    print(numpy.eye(n, m, k = 0))"
   ]
  },
  {
   "cell_type": "markdown",
   "id": "2a666620-9e7a-4803-9fe7-568c3f102d6b",
   "metadata": {},
   "source": [
    "# Array Mathematics"
   ]
  },
  {
   "cell_type": "code",
   "execution_count": null,
   "id": "c3dc64a8-4512-4de4-b174-ccae9ef6b39a",
   "metadata": {},
   "outputs": [],
   "source": [
    "import numpy\n",
    "n, m = list(map(int, input().split()))\n",
    "A = []\n",
    "B = []\n",
    "for _ in range(n):\n",
    "    A.append(list(map(int, input().split())))\n",
    "for _ in range(n):\n",
    "    B.append(list(map(int, input().split())))\n",
    "Arrayed = numpy.array(A)\n",
    "Brrayed = numpy.array(B)\n",
    "print(numpy.add(Arrayed, Brrayed))\n",
    "print(numpy.subtract(Arrayed, Brrayed))\n",
    "print(numpy.multiply(Arrayed, Brrayed))\n",
    "print(numpy.floor_divide(Arrayed, Brrayed))\n",
    "print(numpy.mod(Arrayed, Brrayed))\n",
    "print(numpy.power(Arrayed, Brrayed))"
   ]
  },
  {
   "cell_type": "markdown",
   "id": "05187c4e-f4a5-453a-99c1-b16bb1cd4c06",
   "metadata": {},
   "source": [
    "# Floor, Ceil and Rint"
   ]
  },
  {
   "cell_type": "code",
   "execution_count": null,
   "id": "0560c2fc-b873-47f9-b319-dc223cdb5666",
   "metadata": {},
   "outputs": [],
   "source": [
    "import numpy\n",
    "numpy.set_printoptions(legacy='1.13')\n",
    "array = numpy.array(list(map(float, input().rstrip(\" \").split())))\n",
    "print(numpy.floor(array))\n",
    "print(numpy.ceil(array))\n",
    "print(numpy.rint(array))"
   ]
  },
  {
   "cell_type": "markdown",
   "id": "9a663f33-7408-485b-8367-2bf616008c3a",
   "metadata": {},
   "source": [
    "# Sum and Prod"
   ]
  },
  {
   "cell_type": "code",
   "execution_count": null,
   "id": "5e6574be-ed88-4637-9efb-c7074ef0c6df",
   "metadata": {},
   "outputs": [],
   "source": [
    "import numpy\n",
    "n, m = list(map(int, input().split()))\n",
    "ar = []\n",
    "for _ in range(n):\n",
    "    ar.append(list(map(int, input().split())))\n",
    "arr = numpy.array(ar)\n",
    "print(numpy.product(numpy.sum(arr, axis = 0)))"
   ]
  },
  {
   "cell_type": "markdown",
   "id": "30a984a6-a53a-485c-b316-ce6691958f6f",
   "metadata": {},
   "source": [
    "# Min and max"
   ]
  },
  {
   "cell_type": "code",
   "execution_count": null,
   "id": "4e6552a3-4df5-4554-9eed-fe05d86c8ebd",
   "metadata": {},
   "outputs": [],
   "source": [
    "import numpy\n",
    "n, m = list(map(int, input().split()))\n",
    "arr = []\n",
    "for _ in range(n):\n",
    "    arr.append(list(map(int, input().split())))\n",
    "arrayed = numpy.array(arr)\n",
    "print(numpy.max(numpy.min(arrayed, axis = 1)))"
   ]
  },
  {
   "cell_type": "markdown",
   "id": "b9bfff9b-485a-4b64-acff-759f1a1c0e8a",
   "metadata": {},
   "source": [
    "# Mean, Var, and Std"
   ]
  },
  {
   "cell_type": "code",
   "execution_count": null,
   "id": "5b320ec1-1565-4747-bb47-555921687f79",
   "metadata": {},
   "outputs": [],
   "source": [
    "import numpy\n",
    "n, m = list(map(int, input().split()))\n",
    "arr = []\n",
    "\n",
    "for _ in range(n):\n",
    "    arr.append(list(map(int, input().split())))\n",
    "\n",
    "arrayed = numpy.array(arr)\n",
    "print(numpy.mean(arrayed, axis = 1))\n",
    "print(numpy.var(arrayed, axis = 0))\n",
    "if len(str(numpy.std(arrayed))) > 12:\n",
    "    print(\"%.11f\" % numpy.std(arrayed))\n",
    "else:\n",
    "    print(numpy.std(arrayed))"
   ]
  },
  {
   "cell_type": "markdown",
   "id": "98c809fb-2451-465c-bb35-d689aea2af58",
   "metadata": {},
   "source": [
    "# Dot and cross"
   ]
  },
  {
   "cell_type": "code",
   "execution_count": null,
   "id": "a7ee1d5d-a2ac-4a34-a025-2a2e133d4561",
   "metadata": {},
   "outputs": [],
   "source": [
    "import numpy\n",
    "n = int(input())\n",
    "A = []\n",
    "B = []\n",
    "for _ in range(n):\n",
    "    A.append(list(map(int, input().split())))\n",
    "for _ in range(n):\n",
    "    B.append(list(map(int, input().split())))\n",
    "    \n",
    "array1 = numpy.array(A)\n",
    "array2 = numpy.array(B)\n",
    "print(numpy.dot(array1, array2))"
   ]
  },
  {
   "cell_type": "markdown",
   "id": "44020dc7-b6d2-47fe-b141-907ca9bffa0e",
   "metadata": {},
   "source": [
    "# Inner and Outer"
   ]
  },
  {
   "cell_type": "code",
   "execution_count": 1,
   "id": "3f86e1b4-56d3-4281-ba09-28ad14fb1761",
   "metadata": {},
   "outputs": [
    {
     "name": "stdin",
     "output_type": "stream",
     "text": [
      " 1 2\n",
      " 3 4\n"
     ]
    },
    {
     "name": "stdout",
     "output_type": "stream",
     "text": [
      "11\n",
      "[[3 4]\n",
      " [6 8]]\n"
     ]
    }
   ],
   "source": [
    "import numpy\n",
    "A = numpy.array(list(map(int, input().split())))\n",
    "B = numpy.array(list(map(int, input().split())))\n",
    "\n",
    "print(numpy.inner(A,B))\n",
    "print(numpy.outer(A,B))"
   ]
  },
  {
   "cell_type": "markdown",
   "id": "99d35961-87fc-427b-aa55-14e36b02f92e",
   "metadata": {},
   "source": [
    "# Polynomials"
   ]
  },
  {
   "cell_type": "code",
   "execution_count": null,
   "id": "b2fc60bb-9978-41e5-8715-7d35506293f6",
   "metadata": {},
   "outputs": [],
   "source": [
    "import numpy\n",
    "coefficents = list(map(float, input().split()))\n",
    "value_x = float(input())\n",
    "print(numpy.polyval(coefficents, value_x))"
   ]
  },
  {
   "cell_type": "markdown",
   "id": "5f796cb4-22d8-4289-b3fb-ee37f3624aa9",
   "metadata": {},
   "source": [
    "# Linear Algebra"
   ]
  },
  {
   "cell_type": "code",
   "execution_count": null,
   "id": "b98f0a18-099a-4027-a17e-481c473dc44f",
   "metadata": {},
   "outputs": [],
   "source": [
    "import numpy\n",
    "n = int(input())\n",
    "arr = []\n",
    "for _ in range(n):\n",
    "    arr.append(list(map(float, input().split())))\n",
    "determ = numpy.linalg.det(arr)\n",
    "if len(str(determ)) > 10:\n",
    "    print(\"%.2f\" % determ)\n",
    "else:\n",
    "    print(determ)"
   ]
  }
 ],
 "metadata": {
  "kernelspec": {
   "display_name": "Python 3",
   "language": "python",
   "name": "python3"
  },
  "language_info": {
   "codemirror_mode": {
    "name": "ipython",
    "version": 3
   },
   "file_extension": ".py",
   "mimetype": "text/x-python",
   "name": "python",
   "nbconvert_exporter": "python",
   "pygments_lexer": "ipython3",
   "version": "3.8.8"
  }
 },
 "nbformat": 4,
 "nbformat_minor": 5
}
