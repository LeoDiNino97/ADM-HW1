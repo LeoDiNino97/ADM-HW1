{
 "cells": [
  {
   "cell_type": "markdown",
   "id": "ac9a0171-ab87-4f70-ac38-adff4730f52d",
   "metadata": {},
   "source": [
    "# XML 1: Find the score"
   ]
  },
  {
   "cell_type": "code",
   "execution_count": null,
   "id": "8d5fe53e-d260-48c0-a0e5-db5b0597adf0",
   "metadata": {},
   "outputs": [],
   "source": [
    "import sys\n",
    "import xml.etree.ElementTree as etree\n",
    "\n",
    "def get_attr_number(node):\n",
    "    return len(node.items()) + sum([get_attr_number(x) for x in node])\n",
    "\n",
    "if __name__ == '__main__':\n",
    "    sys.stdin.readline()\n",
    "    xml = sys.stdin.read()\n",
    "    tree = etree.ElementTree(etree.fromstring(xml))\n",
    "    root = tree.getroot()\n",
    "    print(get_attr_number(root))"
   ]
  },
  {
   "cell_type": "markdown",
   "id": "a7424925-5113-4a65-98cf-19303e2e800e",
   "metadata": {},
   "source": [
    "# XML 2: Find the maximum depth"
   ]
  },
  {
   "cell_type": "code",
   "execution_count": null,
   "id": "83e4440d-9934-45e9-bf1e-d104ebfce029",
   "metadata": {},
   "outputs": [],
   "source": [
    "import xml.etree.ElementTree as etree\n",
    "\n",
    "maxdepth = 0\n",
    "def depth(elem, level):\n",
    "    global maxdepth\n",
    "    if level == maxdepth:                  #Recursion basis\n",
    "        maxdepth += 1 \n",
    "    for child in elem:                     #Recursive call\n",
    "        depth(child, level + 1)\n",
    "if __name__ == '__main__':\n",
    "    n = int(input())\n",
    "    xml = \"\"\n",
    "    for i in range(n):\n",
    "        xml =  xml + input() + \"\\n\"\n",
    "    tree = etree.ElementTree(etree.fromstring(xml))\n",
    "    depth(tree.getroot(), -1)\n",
    "    print(maxdepth)"
   ]
  }
 ],
 "metadata": {
  "kernelspec": {
   "display_name": "Python 3",
   "language": "python",
   "name": "python3"
  },
  "language_info": {
   "codemirror_mode": {
    "name": "ipython",
    "version": 3
   },
   "file_extension": ".py",
   "mimetype": "text/x-python",
   "name": "python",
   "nbconvert_exporter": "python",
   "pygments_lexer": "ipython3",
   "version": "3.8.8"
  }
 },
 "nbformat": 4,
 "nbformat_minor": 5
}
