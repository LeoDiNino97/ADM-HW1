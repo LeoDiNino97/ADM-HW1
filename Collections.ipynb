{
 "cells": [
  {
   "cell_type": "markdown",
   "id": "92db704a-bee2-4fe9-9b35-285487960971",
   "metadata": {},
   "source": [
    "# collections.Counter()"
   ]
  },
  {
   "cell_type": "code",
   "execution_count": null,
   "id": "f825d38c-637d-4b9e-9e53-25866a5b993f",
   "metadata": {},
   "outputs": [],
   "source": [
    "# Enter your code here. Read input from STDIN. Print output to STDOUT\n",
    "from collections import Counter\n",
    "\n",
    "number_of_shoes = int(input())\n",
    "available_shoes = Counter(map(int, input().split()))\n",
    "number_of_costumers = int(input())\n",
    "amount_of_money = 0\n",
    "for _ in range(number_of_costumers):\n",
    "    order = input().split()\n",
    "    desired_size = int(order[0])\n",
    "    payed_money = int(order[1])\n",
    "    if available_shoes[desired_size] > 0:\n",
    "        available_shoes[desired_size] -= 1\n",
    "        amount_of_money += payed_money\n",
    "    else:\n",
    "        continue\n",
    "print(amount_of_money)"
   ]
  },
  {
   "cell_type": "markdown",
   "id": "e6d5f47e-3e56-44ce-a76d-da7ddbb8d8d4",
   "metadata": {},
   "source": [
    "# DefaultDict tutorial"
   ]
  },
  {
   "cell_type": "code",
   "execution_count": null,
   "id": "fd0c2cd8-2621-492d-bd8f-f67f9974c1af",
   "metadata": {},
   "outputs": [],
   "source": [
    "# Enter your code here. Read input from STDIN. Print output to STDOUT\n",
    "from collections import defaultdict\n",
    "d = defaultdict(list)\n",
    "list1=[]\n",
    "n, m = map(int,input().split())\n",
    "for i in range(1, n+1):\n",
    "    d[input()].append(str(i))\n",
    "\n",
    "for i in range(m):\n",
    "    b = input()\n",
    "    if b in d: \n",
    "        print(' '.join(d[b]))\n",
    "    else: \n",
    "        print(-1)"
   ]
  },
  {
   "cell_type": "markdown",
   "id": "4b471e59-5c6e-4ef8-89b4-2aaef2b84268",
   "metadata": {},
   "source": [
    "# Collections.namedtuple()"
   ]
  },
  {
   "cell_type": "code",
   "execution_count": null,
   "id": "340bcf3d-3a85-45fe-857f-8091dc6d4c92",
   "metadata": {},
   "outputs": [],
   "source": [
    "# Enter your code here. Read input from STDIN. Print output to STDOUT\n",
    "from collections import namedtuple\n",
    "\n",
    "n = int(input())\n",
    "columns = input().split()\n",
    "\n",
    "total_marks = 0\n",
    "for _ in range(n):\n",
    "    registered_students = namedtuple('student', columns)\n",
    "    MARKS, CLASS, NAME, ID = input().split()\n",
    "    student = registered_students(MARKS, CLASS, NAME, ID)\n",
    "    total_marks += int(student.MARKS)\n",
    "print('{:.2f}'.format(total_marks / n))"
   ]
  },
  {
   "cell_type": "markdown",
   "id": "ece9fa94-fedd-4a40-a3a0-9617b854d902",
   "metadata": {},
   "source": [
    "# Collections.OrderedDict()"
   ]
  },
  {
   "cell_type": "code",
   "execution_count": null,
   "id": "3b9ed8c4-ec0b-49d3-abb6-ccfe3483cbfd",
   "metadata": {},
   "outputs": [],
   "source": [
    "# Enter your code here. Read input from STDIN. Print output to STDOUT\n",
    "from collections import OrderedDict\n",
    "n = int(input())\n",
    "items = OrderedDict()\n",
    "for _ in range(n):\n",
    "    item_price = input().split()\n",
    "    l = len(item_price)\n",
    "    item = \" \".join(item_price[:l-1])\n",
    "    price = int(item_price[l-1])\n",
    "    if item in items.keys():\n",
    "        items[item] += price\n",
    "    else:\n",
    "        items[item] = price\n",
    "\n",
    "for key in items:\n",
    "    print(key+\" \"+str(items[key]))"
   ]
  },
  {
   "cell_type": "markdown",
   "id": "06b57e39-1dfe-4d87-9a59-a684625ddd57",
   "metadata": {},
   "source": [
    "# Word order"
   ]
  },
  {
   "cell_type": "code",
   "execution_count": null,
   "id": "3f09bc08-26a1-4732-8d43-26d5130b6840",
   "metadata": {},
   "outputs": [],
   "source": [
    "# Enter your code here. Read input from STDIN. Print output to STDOUT\n",
    "from collections import OrderedDict\n",
    "n = int(input())\n",
    "words = OrderedDict()\n",
    "counter = 0\n",
    "for _ in range(n):\n",
    "    word = str(str(input()))\n",
    "    if word in words.keys():\n",
    "        words[word] += 1\n",
    "    else: \n",
    "        words[word] = 1\n",
    "        counter += 1\n",
    "\n",
    "print(counter)\n",
    "print(\" \".join([str(words[key]) for key in words]))"
   ]
  },
  {
   "cell_type": "markdown",
   "id": "449c9c96-51f2-4ffe-8659-a35867b8a584",
   "metadata": {},
   "source": [
    "# Collections.deque()"
   ]
  },
  {
   "cell_type": "code",
   "execution_count": null,
   "id": "3c84074c-a102-4014-b557-2fcd40313b83",
   "metadata": {},
   "outputs": [],
   "source": [
    "# Enter your code here. Read input from STDIN. Print output to STDOUT\n",
    "from collections import deque\n",
    "n = int(input())\n",
    "double_queue = deque()\n",
    "for _ in range(n):\n",
    "    command = input().split()\n",
    "    comm = command[0]\n",
    "    if len(command) == 2:\n",
    "        elem = int(command[1])\n",
    "    if comm == \"append\":\n",
    "        double_queue.append(elem)\n",
    "    if comm == \"appendleft\":\n",
    "        double_queue.appendleft(elem)\n",
    "    if comm == \"pop\":\n",
    "        try:\n",
    "            double_queue.pop()\n",
    "        except IndexError:\n",
    "            pass\n",
    "    if comm == \"popleft\":\n",
    "        try:\n",
    "            double_queue.popleft()\n",
    "        except IndexError:\n",
    "            pass\n",
    "print(\" \".join([str(elem) for elem in double_queue]))"
   ]
  },
  {
   "cell_type": "markdown",
   "id": "dfff15b0-980e-4ff4-a751-13c502e95099",
   "metadata": {},
   "source": [
    "# Pilling Up!"
   ]
  },
  {
   "cell_type": "code",
   "execution_count": null,
   "id": "004cbea8-cbf4-49dc-ad2b-59b2499a320c",
   "metadata": {},
   "outputs": [],
   "source": [
    "from collections import deque\n",
    "\n",
    "def pop_largest(double_queue):\n",
    "    front, back = double_queue[0], double_queue[-1]\n",
    "    if front >= back:\n",
    "        return double_queue.popleft()\n",
    "    else:\n",
    "        return double_queue.pop()\n",
    "\n",
    "def double_test(double_queue):\n",
    "    largest = pop_largest(double_queue)\n",
    "    while len(double_queue) > 0:\n",
    "        on_top = largest\n",
    "        largest = pop_largest(double_queue)\n",
    "        if largest > on_top:\n",
    "            return False\n",
    "    return True\n",
    "\n",
    "\n",
    "number_of_tests = int(input())\n",
    "for _ in range(number_of_tests):\n",
    "    size = int(input())\n",
    "    blocks = deque(list(map(int, input().split())))\n",
    "    if double_test(blocks):\n",
    "        print('Yes')\n",
    "    else:\n",
    "        print('No')"
   ]
  },
  {
   "cell_type": "markdown",
   "id": "a4978bfc-86ac-4f67-bbdb-afe6a5ac2f9f",
   "metadata": {},
   "source": [
    "# Company Logo"
   ]
  },
  {
   "cell_type": "code",
   "execution_count": null,
   "id": "ee23c97d-8744-4895-89d9-063fea5c3b79",
   "metadata": {},
   "outputs": [],
   "source": [
    "#!/bin/python3\n",
    "\n",
    "import math\n",
    "import os\n",
    "import random\n",
    "import re\n",
    "import sys\n",
    "\n",
    "if __name__ == '__main__':\n",
    "    s = input()\n",
    "\n",
    "from collections import OrderedDict\n",
    "\n",
    "letters = OrderedDict()\n",
    "\n",
    "for _ in range(len(s)):\n",
    "    if s[_] in letters:\n",
    "        letters[s[_]] += 1\n",
    "    else:\n",
    "        letters[s[_]] = 1        \n",
    "\n",
    "priorities = list(reversed(sorted([letters[key] for key in letters.keys()])))\n",
    "alpha_letters = sorted([key for key in letters.keys()])\n",
    "\n",
    "letters_priority = []\n",
    "letter_queue = []\n",
    "\n",
    "for priority in priorities:\n",
    "    for letter in alpha_letters:\n",
    "        if (letter, priority) in letters.items() and letter not in letter_queue:\n",
    "            letters_priority.append([letter, str(priority)])\n",
    "            letter_queue.append(letter)\n",
    "        else:\n",
    "            continue\n",
    "\n",
    "for _ in range(3):\n",
    "    print(\" \".join(letters_priority[_]))"
   ]
  }
 ],
 "metadata": {
  "kernelspec": {
   "display_name": "Python 3",
   "language": "python",
   "name": "python3"
  },
  "language_info": {
   "codemirror_mode": {
    "name": "ipython",
    "version": 3
   },
   "file_extension": ".py",
   "mimetype": "text/x-python",
   "name": "python",
   "nbconvert_exporter": "python",
   "pygments_lexer": "ipython3",
   "version": "3.8.8"
  }
 },
 "nbformat": 4,
 "nbformat_minor": 5
}
