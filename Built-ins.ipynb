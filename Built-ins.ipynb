{
 "cells": [
  {
   "cell_type": "markdown",
   "id": "9e8048ce-46ce-4cd8-bc35-1b3b029af22f",
   "metadata": {},
   "source": [
    "# Zipped!"
   ]
  },
  {
   "cell_type": "code",
   "execution_count": null,
   "id": "22ca9ccd-f0be-4164-954a-49118e480fcb",
   "metadata": {},
   "outputs": [],
   "source": [
    "# Enter your code here. Read input from STDIN. Print output to STDOUT\n",
    "students, subjects = list(map(int, input().split()))\n",
    "to_be_zipped = []\n",
    "for _ in range(subjects):\n",
    "    to_be_zipped.append(list(map(float, input().split())))\n",
    "for student in zip(*to_be_zipped):\n",
    "    print(sum(student)/subjects)"
   ]
  },
  {
   "cell_type": "markdown",
   "id": "babe059e-b17b-4847-b5de-b1eefa14ba90",
   "metadata": {},
   "source": [
    "# Athlete Sort"
   ]
  },
  {
   "cell_type": "code",
   "execution_count": null,
   "id": "ebe7bd81-d5eb-4cb4-bad0-eb7ab3607b8c",
   "metadata": {},
   "outputs": [],
   "source": [
    "#!/bin/python3\n",
    "\n",
    "import math\n",
    "import os\n",
    "import random\n",
    "import re\n",
    "import sys\n",
    "\n",
    "\n",
    "if __name__ == '__main__':\n",
    "    nm = input().split()\n",
    "\n",
    "    n = int(nm[0])\n",
    "\n",
    "    m = int(nm[1])\n",
    "\n",
    "    arr = []\n",
    "\n",
    "    for _ in range(n):\n",
    "        arr.append(list(map(int, input().rstrip().split())))\n",
    "\n",
    "    k = int(input())\n",
    "    \n",
    "sorted_arr = sorted(arr, key = lambda x : x[k])\n",
    "for athlete in sorted_arr:\n",
    "    print(\" \".join([str(value) for value in athlete]))"
   ]
  },
  {
   "cell_type": "markdown",
   "id": "863f184a-9d36-407b-9ba3-3fb699c64b9c",
   "metadata": {},
   "source": [
    "# ginortS"
   ]
  },
  {
   "cell_type": "code",
   "execution_count": null,
   "id": "d48a68b1-c9ac-4295-bc78-13ddf57eddc9",
   "metadata": {},
   "outputs": [],
   "source": [
    "# Enter your code here. Read input from STDIN. Print output to STDOUT\n",
    "string_input = str(input())\n",
    "uppers = []\n",
    "lowers = []\n",
    "odd_digits = []\n",
    "even_digits = []\n",
    "for i in range(len(string_input)):\n",
    "    if string_input[i].isdigit():\n",
    "        if int(string_input[i]) % 2 == 0:\n",
    "            even_digits.append(string_input[i])\n",
    "        else:\n",
    "            odd_digits.append(string_input[i])\n",
    "    if string_input[i].islower():\n",
    "        lowers.append(string_input[i])\n",
    "    if string_input[i].isupper():\n",
    "        uppers.append(string_input[i])\n",
    "\n",
    "all_chars = sorted(lowers) + sorted(uppers) + sorted(odd_digits) \\\n",
    "          + sorted(even_digits)\n",
    "print(\"\".join(all_chars))"
   ]
  }
 ],
 "metadata": {
  "kernelspec": {
   "display_name": "Python 3",
   "language": "python",
   "name": "python3"
  },
  "language_info": {
   "codemirror_mode": {
    "name": "ipython",
    "version": 3
   },
   "file_extension": ".py",
   "mimetype": "text/x-python",
   "name": "python",
   "nbconvert_exporter": "python",
   "pygments_lexer": "ipython3",
   "version": "3.8.8"
  }
 },
 "nbformat": 4,
 "nbformat_minor": 5
}
